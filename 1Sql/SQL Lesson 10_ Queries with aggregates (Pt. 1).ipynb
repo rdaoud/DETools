{
 "cells": [
  {
   "cell_type": "markdown",
   "metadata": {},
   "source": [
    "# SQL Lesson 10: Queries with aggregates (Pt. 1)"
   ]
  },
  {
   "cell_type": "markdown",
   "metadata": {},
   "source": [
    "Outre les expressions simples que nous avons présentées lors de la dernière leçon, SQL prend également en charge l'utilisation d'expressions d'agrégation (ou de fonctions) qui vous permettent de résumer des informations sur un groupe de lignes de données. Avec la base de données Pixar que vous utilisez, les fonctions d'agrégation peuvent être utilisées pour répondre à des questions telles que \"Combien de films Pixar a-t-il produits?\" Ou \"Quel est le film Pixar le plus rentable chaque année?\"."
   ]
  },
  {
   "cell_type": "markdown",
   "metadata": {},
   "source": [
    "Sélectionnez une requête avec des fonctions d'agrégation sur toutes les lignes\n",
    "``` mysql \n",
    "SELECT AGG_FUNC(column_or_expression) AS aggregate_description, …\n",
    "FROM mytable\n",
    "WHERE constraint_expression;\n",
    "```"
   ]
  },
  {
   "cell_type": "markdown",
   "metadata": {},
   "source": [
    "Sans un regroupement spécifié, chaque fonction d'agrégation va s'exécuter sur l'ensemble des lignes de résultats et retourner une valeur unique. Et comme les expressions normales, attribuer un alias à vos fonctions d'agrégation garantit que les résultats seront plus faciles à lire et à traiter."
   ]
  },
  {
   "cell_type": "markdown",
   "metadata": {},
   "source": [
    "## Fonctions d'agrégat communes\n"
   ]
  },
  {
   "cell_type": "markdown",
   "metadata": {},
   "source": [
    "Voici quelques fonctions d'agrégation courantes que nous allons utiliser dans nos exemples:\n",
    "\n"
   ]
  },
  {
   "cell_type": "code",
   "execution_count": 1,
   "metadata": {
    "ExecuteTime": {
     "end_time": "2021-01-18T15:53:05.211490Z",
     "start_time": "2021-01-18T15:53:05.207266Z"
    }
   },
   "outputs": [],
   "source": [
    "x=\"\"\"Fonction\tLa description\n",
    "COUNT ( * ) , COUNT ( colonne )\tUne fonction courante utilisée pour compter le nombre de lignes dans le groupe si aucun nom de colonne n'est spécifié. Sinon, comptez le nombre de lignes du groupe avec des valeurs non NULL dans la colonne spécifiée.\n",
    "MIN ( colonne )\tRecherche la plus petite valeur numérique dans la colonne spécifiée pour toutes les lignes du groupe.\n",
    "MAX ( colonne )\tRecherche la plus grande valeur numérique dans la colonne spécifiée pour toutes les lignes du groupe.\n",
    "AVG ( colonne )\tRecherche la valeur numérique moyenne dans la colonne spécifiée pour toutes les lignes du groupe.\n",
    "SUM ( colonne )\tRecherche la somme de toutes les valeurs numériques dans la colonne spécifiée pour les lignes du groupe.\"\"\""
   ]
  },
  {
   "cell_type": "code",
   "execution_count": 2,
   "metadata": {
    "ExecuteTime": {
     "end_time": "2021-01-18T15:53:32.211841Z",
     "start_time": "2021-01-18T15:53:31.449415Z"
    }
   },
   "outputs": [],
   "source": [
    "import pandas as pd\n",
    "\n",
    "def to_df(s):\n",
    "    l= [elt.split(';') for elt in s.replace(\"\t\", \";\").split('\\n')]\n",
    "    return pd.DataFrame(l[1:], columns=l[0])"
   ]
  },
  {
   "cell_type": "code",
   "execution_count": 3,
   "metadata": {
    "ExecuteTime": {
     "end_time": "2021-01-18T15:53:33.339369Z",
     "start_time": "2021-01-18T15:53:33.330862Z"
    }
   },
   "outputs": [],
   "source": [
    "agregats = to_df(x)"
   ]
  },
  {
   "cell_type": "code",
   "execution_count": 4,
   "metadata": {
    "ExecuteTime": {
     "end_time": "2021-01-18T15:53:38.823980Z",
     "start_time": "2021-01-18T15:53:38.803023Z"
    }
   },
   "outputs": [
    {
     "data": {
      "text/html": [
       "<div>\n",
       "<style>\n",
       "    .dataframe thead tr:only-child th {\n",
       "        text-align: right;\n",
       "    }\n",
       "\n",
       "    .dataframe thead th {\n",
       "        text-align: left;\n",
       "    }\n",
       "\n",
       "    .dataframe tbody tr th {\n",
       "        vertical-align: top;\n",
       "    }\n",
       "</style>\n",
       "<table border=\"1\" class=\"dataframe\">\n",
       "  <thead>\n",
       "    <tr style=\"text-align: right;\">\n",
       "      <th></th>\n",
       "      <th>Fonction</th>\n",
       "      <th>La description</th>\n",
       "    </tr>\n",
       "  </thead>\n",
       "  <tbody>\n",
       "    <tr>\n",
       "      <th>0</th>\n",
       "      <td>COUNT ( * ) , COUNT ( colonne )</td>\n",
       "      <td>Une fonction courante utilisée pour compter le...</td>\n",
       "    </tr>\n",
       "    <tr>\n",
       "      <th>1</th>\n",
       "      <td>MIN ( colonne )</td>\n",
       "      <td>Recherche la plus petite valeur numérique dans...</td>\n",
       "    </tr>\n",
       "    <tr>\n",
       "      <th>2</th>\n",
       "      <td>MAX ( colonne )</td>\n",
       "      <td>Recherche la plus grande valeur numérique dans...</td>\n",
       "    </tr>\n",
       "    <tr>\n",
       "      <th>3</th>\n",
       "      <td>AVG ( colonne )</td>\n",
       "      <td>Recherche la valeur numérique moyenne dans la ...</td>\n",
       "    </tr>\n",
       "    <tr>\n",
       "      <th>4</th>\n",
       "      <td>SUM ( colonne )</td>\n",
       "      <td>Recherche la somme de toutes les valeurs numér...</td>\n",
       "    </tr>\n",
       "  </tbody>\n",
       "</table>\n",
       "</div>"
      ],
      "text/plain": [
       "                          Fonction  \\\n",
       "0  COUNT ( * ) , COUNT ( colonne )   \n",
       "1                  MIN ( colonne )   \n",
       "2                  MAX ( colonne )   \n",
       "3                  AVG ( colonne )   \n",
       "4                  SUM ( colonne )   \n",
       "\n",
       "                                      La description  \n",
       "0  Une fonction courante utilisée pour compter le...  \n",
       "1  Recherche la plus petite valeur numérique dans...  \n",
       "2  Recherche la plus grande valeur numérique dans...  \n",
       "3  Recherche la valeur numérique moyenne dans la ...  \n",
       "4  Recherche la somme de toutes les valeurs numér...  "
      ]
     },
     "execution_count": 4,
     "metadata": {},
     "output_type": "execute_result"
    }
   ],
   "source": [
    "agregats"
   ]
  },
  {
   "cell_type": "markdown",
   "metadata": {},
   "source": [
    "## Fonctions d'agrégation groupées\n"
   ]
  },
  {
   "cell_type": "markdown",
   "metadata": {},
   "source": [
    "En plus d'agréger sur toutes les lignes, vous pouvez à la place appliquer les fonctions d'agrégation à des groupes de données individuels au sein de ce groupe (c.-à-d. Ventes au box-office pour Comédies vs films d'action).\n",
    "\n",
    "Cela créerait alors autant de résultats qu'il y a de groupes uniques définis par la clause **GROUP BY**."
   ]
  },
  {
   "cell_type": "markdown",
   "metadata": {},
   "source": [
    "Sélectionnez une requête avec des fonctions d'agrégation sur des groupes\n",
    "``` mysql \n",
    "SELECT AGG_FUNC(column_or_expression) AS aggregate_description, …\n",
    "FROM mytable\n",
    "WHERE constraint_expression\n",
    "GROUP BY column;\n",
    "```"
   ]
  },
  {
   "cell_type": "markdown",
   "metadata": {},
   "source": [
    "La clause **GROUP BY** fonctionne en regroupant les lignes qui ont la même valeur dans la colonne spécifiée."
   ]
  },
  {
   "cell_type": "markdown",
   "metadata": {},
   "source": [
    "## Exercise"
   ]
  },
  {
   "cell_type": "markdown",
   "metadata": {},
   "source": [
    "Pour cet exercice, nous allons travailler avec notre table **employes** . Notez comment les lignes de ce tableau ont des données partagées, ce qui nous donnera l'occasion d'utiliser des fonctions d'agrégation pour résumer certaines mesures de haut niveau sur les équipes. Allez-y et donner un coup de feu."
   ]
  },
  {
   "cell_type": "code",
   "execution_count": 13,
   "metadata": {
    "ExecuteTime": {
     "end_time": "2021-01-18T15:56:43.759682Z",
     "start_time": "2021-01-18T15:56:43.754887Z"
    }
   },
   "outputs": [],
   "source": [
    "import pandas as pd\n",
    "\n",
    "def to_df(s):\n",
    "    l= [elt.split(';') for elt in s.replace(\"\t\", \";\").split('\\n')]\n",
    "    return pd.DataFrame(l[1:], columns=l[0])"
   ]
  },
  {
   "cell_type": "code",
   "execution_count": 14,
   "metadata": {},
   "outputs": [],
   "source": [
    "from pandasql import sqldf"
   ]
  },
  {
   "cell_type": "code",
   "execution_count": 15,
   "metadata": {
    "ExecuteTime": {
     "end_time": "2021-01-18T15:56:44.276643Z",
     "start_time": "2021-01-18T15:56:44.274255Z"
    }
   },
   "outputs": [],
   "source": [
    "x=\"\"\"Role\tName\tBuilding\tYears_employed\n",
    "Engineer\tBecky A.\t1e\t4\n",
    "Engineer\tDan B.\t1e\t2\n",
    "Engineer\tSharon F.\t1e\t6\n",
    "Engineer\tDan M.\t1e\t4\n",
    "Engineer\tMalcom S.\t1e\t1\n",
    "Artist\tTylar S.\t2w\t2\n",
    "Artist\tSherman D.\t2w\t8\n",
    "Artist\tJakob J.\t2w\t6\n",
    "Artist\tLillia A.\t2w\t7\n",
    "Artist\tBrandon J.\t2w\t7\n",
    "Manager\tScott K.\t1e\t9\n",
    "Manager\tShirlee M.\t1e\t3\n",
    "Manager\tDaria O.\t2w\t6\"\"\""
   ]
  },
  {
   "cell_type": "code",
   "execution_count": 16,
   "metadata": {
    "ExecuteTime": {
     "end_time": "2021-01-18T15:56:44.690417Z",
     "start_time": "2021-01-18T15:56:44.685788Z"
    }
   },
   "outputs": [],
   "source": [
    "employes = to_df(x) #employees"
   ]
  },
  {
   "cell_type": "code",
   "execution_count": 17,
   "metadata": {
    "ExecuteTime": {
     "end_time": "2021-01-18T15:56:51.248625Z",
     "start_time": "2021-01-18T15:56:51.236174Z"
    },
    "scrolled": true
   },
   "outputs": [
    {
     "data": {
      "text/html": [
       "<div>\n",
       "<style>\n",
       "    .dataframe thead tr:only-child th {\n",
       "        text-align: right;\n",
       "    }\n",
       "\n",
       "    .dataframe thead th {\n",
       "        text-align: left;\n",
       "    }\n",
       "\n",
       "    .dataframe tbody tr th {\n",
       "        vertical-align: top;\n",
       "    }\n",
       "</style>\n",
       "<table border=\"1\" class=\"dataframe\">\n",
       "  <thead>\n",
       "    <tr style=\"text-align: right;\">\n",
       "      <th></th>\n",
       "      <th>Role</th>\n",
       "      <th>Name</th>\n",
       "      <th>Building</th>\n",
       "      <th>Years_employed</th>\n",
       "    </tr>\n",
       "  </thead>\n",
       "  <tbody>\n",
       "    <tr>\n",
       "      <th>0</th>\n",
       "      <td>Engineer</td>\n",
       "      <td>Becky A.</td>\n",
       "      <td>1e</td>\n",
       "      <td>4</td>\n",
       "    </tr>\n",
       "    <tr>\n",
       "      <th>1</th>\n",
       "      <td>Engineer</td>\n",
       "      <td>Dan B.</td>\n",
       "      <td>1e</td>\n",
       "      <td>2</td>\n",
       "    </tr>\n",
       "    <tr>\n",
       "      <th>2</th>\n",
       "      <td>Engineer</td>\n",
       "      <td>Sharon F.</td>\n",
       "      <td>1e</td>\n",
       "      <td>6</td>\n",
       "    </tr>\n",
       "    <tr>\n",
       "      <th>3</th>\n",
       "      <td>Engineer</td>\n",
       "      <td>Dan M.</td>\n",
       "      <td>1e</td>\n",
       "      <td>4</td>\n",
       "    </tr>\n",
       "    <tr>\n",
       "      <th>4</th>\n",
       "      <td>Engineer</td>\n",
       "      <td>Malcom S.</td>\n",
       "      <td>1e</td>\n",
       "      <td>1</td>\n",
       "    </tr>\n",
       "    <tr>\n",
       "      <th>5</th>\n",
       "      <td>Artist</td>\n",
       "      <td>Tylar S.</td>\n",
       "      <td>2w</td>\n",
       "      <td>2</td>\n",
       "    </tr>\n",
       "    <tr>\n",
       "      <th>6</th>\n",
       "      <td>Artist</td>\n",
       "      <td>Sherman D.</td>\n",
       "      <td>2w</td>\n",
       "      <td>8</td>\n",
       "    </tr>\n",
       "    <tr>\n",
       "      <th>7</th>\n",
       "      <td>Artist</td>\n",
       "      <td>Jakob J.</td>\n",
       "      <td>2w</td>\n",
       "      <td>6</td>\n",
       "    </tr>\n",
       "    <tr>\n",
       "      <th>8</th>\n",
       "      <td>Artist</td>\n",
       "      <td>Lillia A.</td>\n",
       "      <td>2w</td>\n",
       "      <td>7</td>\n",
       "    </tr>\n",
       "    <tr>\n",
       "      <th>9</th>\n",
       "      <td>Artist</td>\n",
       "      <td>Brandon J.</td>\n",
       "      <td>2w</td>\n",
       "      <td>7</td>\n",
       "    </tr>\n",
       "    <tr>\n",
       "      <th>10</th>\n",
       "      <td>Manager</td>\n",
       "      <td>Scott K.</td>\n",
       "      <td>1e</td>\n",
       "      <td>9</td>\n",
       "    </tr>\n",
       "    <tr>\n",
       "      <th>11</th>\n",
       "      <td>Manager</td>\n",
       "      <td>Shirlee M.</td>\n",
       "      <td>1e</td>\n",
       "      <td>3</td>\n",
       "    </tr>\n",
       "    <tr>\n",
       "      <th>12</th>\n",
       "      <td>Manager</td>\n",
       "      <td>Daria O.</td>\n",
       "      <td>2w</td>\n",
       "      <td>6</td>\n",
       "    </tr>\n",
       "  </tbody>\n",
       "</table>\n",
       "</div>"
      ],
      "text/plain": [
       "        Role        Name Building Years_employed\n",
       "0   Engineer    Becky A.       1e              4\n",
       "1   Engineer      Dan B.       1e              2\n",
       "2   Engineer   Sharon F.       1e              6\n",
       "3   Engineer      Dan M.       1e              4\n",
       "4   Engineer   Malcom S.       1e              1\n",
       "5     Artist    Tylar S.       2w              2\n",
       "6     Artist  Sherman D.       2w              8\n",
       "7     Artist    Jakob J.       2w              6\n",
       "8     Artist   Lillia A.       2w              7\n",
       "9     Artist  Brandon J.       2w              7\n",
       "10   Manager    Scott K.       1e              9\n",
       "11   Manager  Shirlee M.       1e              3\n",
       "12   Manager    Daria O.       2w              6"
      ]
     },
     "execution_count": 17,
     "metadata": {},
     "output_type": "execute_result"
    }
   ],
   "source": [
    "employes"
   ]
  },
  {
   "cell_type": "markdown",
   "metadata": {},
   "source": [
    "1. Trouvez le temps le plus long qu'un employé a passé au studio\n"
   ]
  },
  {
   "cell_type": "code",
   "execution_count": 18,
   "metadata": {
    "ExecuteTime": {
     "end_time": "2021-01-18T14:28:09.886634Z",
     "start_time": "2021-01-18T14:28:09.883564Z"
    }
   },
   "outputs": [],
   "source": [
    "QUERY1 = \"Select Name, Max(Years_employed) FROM employes;\""
   ]
  },
  {
   "cell_type": "code",
   "execution_count": 19,
   "metadata": {
    "ExecuteTime": {
     "end_time": "2021-01-18T14:28:11.183492Z",
     "start_time": "2021-01-18T14:28:11.159723Z"
    }
   },
   "outputs": [
    {
     "data": {
      "text/html": [
       "<div>\n",
       "<style>\n",
       "    .dataframe thead tr:only-child th {\n",
       "        text-align: right;\n",
       "    }\n",
       "\n",
       "    .dataframe thead th {\n",
       "        text-align: left;\n",
       "    }\n",
       "\n",
       "    .dataframe tbody tr th {\n",
       "        vertical-align: top;\n",
       "    }\n",
       "</style>\n",
       "<table border=\"1\" class=\"dataframe\">\n",
       "  <thead>\n",
       "    <tr style=\"text-align: right;\">\n",
       "      <th></th>\n",
       "      <th>Name</th>\n",
       "      <th>Max(Years_employed)</th>\n",
       "    </tr>\n",
       "  </thead>\n",
       "  <tbody>\n",
       "    <tr>\n",
       "      <th>0</th>\n",
       "      <td>Scott K.</td>\n",
       "      <td>9</td>\n",
       "    </tr>\n",
       "  </tbody>\n",
       "</table>\n",
       "</div>"
      ],
      "text/plain": [
       "       Name Max(Years_employed)\n",
       "0  Scott K.                   9"
      ]
     },
     "execution_count": 19,
     "metadata": {},
     "output_type": "execute_result"
    }
   ],
   "source": [
    "sqldf(QUERY1)"
   ]
  },
  {
   "cell_type": "markdown",
   "metadata": {},
   "source": [
    "2. Pour chaque rôle, trouvez le nombre moyen d'années employées par les employés dans ce rôle"
   ]
  },
  {
   "cell_type": "code",
   "execution_count": 24,
   "metadata": {
    "ExecuteTime": {
     "end_time": "2021-01-18T14:28:09.886634Z",
     "start_time": "2021-01-18T14:28:09.883564Z"
    }
   },
   "outputs": [],
   "source": [
    "QUERY2 = \"SELECT Role, AVG(Years_employed) FROM employes GROUP BY Role;\""
   ]
  },
  {
   "cell_type": "code",
   "execution_count": 25,
   "metadata": {
    "ExecuteTime": {
     "end_time": "2021-01-18T14:28:11.183492Z",
     "start_time": "2021-01-18T14:28:11.159723Z"
    }
   },
   "outputs": [
    {
     "data": {
      "text/html": [
       "<div>\n",
       "<style>\n",
       "    .dataframe thead tr:only-child th {\n",
       "        text-align: right;\n",
       "    }\n",
       "\n",
       "    .dataframe thead th {\n",
       "        text-align: left;\n",
       "    }\n",
       "\n",
       "    .dataframe tbody tr th {\n",
       "        vertical-align: top;\n",
       "    }\n",
       "</style>\n",
       "<table border=\"1\" class=\"dataframe\">\n",
       "  <thead>\n",
       "    <tr style=\"text-align: right;\">\n",
       "      <th></th>\n",
       "      <th>Role</th>\n",
       "      <th>AVG(Years_employed)</th>\n",
       "    </tr>\n",
       "  </thead>\n",
       "  <tbody>\n",
       "    <tr>\n",
       "      <th>0</th>\n",
       "      <td>Artist</td>\n",
       "      <td>6.0</td>\n",
       "    </tr>\n",
       "    <tr>\n",
       "      <th>1</th>\n",
       "      <td>Engineer</td>\n",
       "      <td>3.4</td>\n",
       "    </tr>\n",
       "    <tr>\n",
       "      <th>2</th>\n",
       "      <td>Manager</td>\n",
       "      <td>6.0</td>\n",
       "    </tr>\n",
       "  </tbody>\n",
       "</table>\n",
       "</div>"
      ],
      "text/plain": [
       "       Role  AVG(Years_employed)\n",
       "0    Artist                  6.0\n",
       "1  Engineer                  3.4\n",
       "2   Manager                  6.0"
      ]
     },
     "execution_count": 25,
     "metadata": {},
     "output_type": "execute_result"
    }
   ],
   "source": [
    "sqldf(QUERY2)"
   ]
  },
  {
   "cell_type": "markdown",
   "metadata": {},
   "source": [
    "3. Trouvez le nombre total d'années d'employés travaillés dans chaque bâtiment"
   ]
  },
  {
   "cell_type": "code",
   "execution_count": 28,
   "metadata": {
    "ExecuteTime": {
     "end_time": "2021-01-18T14:28:09.886634Z",
     "start_time": "2021-01-18T14:28:09.883564Z"
    }
   },
   "outputs": [],
   "source": [
    "QUERY3 = \"SELECT Building, Sum(Years_employed) FROM employes GROUP BY Building\""
   ]
  },
  {
   "cell_type": "code",
   "execution_count": 29,
   "metadata": {
    "ExecuteTime": {
     "end_time": "2021-01-18T14:28:11.183492Z",
     "start_time": "2021-01-18T14:28:11.159723Z"
    }
   },
   "outputs": [
    {
     "data": {
      "text/html": [
       "<div>\n",
       "<style>\n",
       "    .dataframe thead tr:only-child th {\n",
       "        text-align: right;\n",
       "    }\n",
       "\n",
       "    .dataframe thead th {\n",
       "        text-align: left;\n",
       "    }\n",
       "\n",
       "    .dataframe tbody tr th {\n",
       "        vertical-align: top;\n",
       "    }\n",
       "</style>\n",
       "<table border=\"1\" class=\"dataframe\">\n",
       "  <thead>\n",
       "    <tr style=\"text-align: right;\">\n",
       "      <th></th>\n",
       "      <th>Building</th>\n",
       "      <th>Sum(Years_employed)</th>\n",
       "    </tr>\n",
       "  </thead>\n",
       "  <tbody>\n",
       "    <tr>\n",
       "      <th>0</th>\n",
       "      <td>1e</td>\n",
       "      <td>29</td>\n",
       "    </tr>\n",
       "    <tr>\n",
       "      <th>1</th>\n",
       "      <td>2w</td>\n",
       "      <td>36</td>\n",
       "    </tr>\n",
       "  </tbody>\n",
       "</table>\n",
       "</div>"
      ],
      "text/plain": [
       "  Building  Sum(Years_employed)\n",
       "0       1e                   29\n",
       "1       2w                   36"
      ]
     },
     "execution_count": 29,
     "metadata": {},
     "output_type": "execute_result"
    }
   ],
   "source": [
    "sqldf(QUERY3)"
   ]
  },
  {
   "cell_type": "code",
   "execution_count": null,
   "metadata": {},
   "outputs": [],
   "source": []
  }
 ],
 "metadata": {
  "kernelspec": {
   "display_name": "Python 3",
   "language": "python",
   "name": "python3"
  },
  "language_info": {
   "codemirror_mode": {
    "name": "ipython",
    "version": 3
   },
   "file_extension": ".py",
   "mimetype": "text/x-python",
   "name": "python",
   "nbconvert_exporter": "python",
   "pygments_lexer": "ipython3",
   "version": "3.6.12"
  }
 },
 "nbformat": 4,
 "nbformat_minor": 1
}
