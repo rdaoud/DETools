{
 "cells": [
  {
   "cell_type": "markdown",
   "metadata": {},
   "source": [
    "# SQL Lesson 17: Altering tables"
   ]
  },
  {
   "cell_type": "markdown",
   "metadata": {},
   "source": [
    "À mesure que vos données changent au fil du temps, SQL vous permet de mettre à jour vos tables et schémas de base de données correspondants en utilisant l' instruction **ALTER TABLE** pour ajouter, supprimer ou modifier des colonnes et des contraintes de table."
   ]
  },
  {
   "cell_type": "markdown",
   "metadata": {},
   "source": [
    "## Ajouter des colonnes"
   ]
  },
  {
   "cell_type": "markdown",
   "metadata": {},
   "source": [
    "La syntaxe pour ajouter une nouvelle colonne est similaire à la syntaxe lors de la création de nouvelles lignes dans l' instruction **CREATE TABLE**.\n",
    "\n",
    "Vous devez spécifier le type de données de la colonne ainsi que toutes les contraintes de table potentielles et les valeurs par défaut à appliquer aux lignes existantes et nouvelles. Dans certaines bases de données comme MySQL, vous pouvez même spécifier où insérer la nouvelle colonne à l'aide des clauses **FIRST** ou **AFTER**, bien que ce ne soit pas une fonctionnalité standard."
   ]
  },
  {
   "cell_type": "markdown",
   "metadata": {},
   "source": [
    "Modifier le tableau pour ajouter de nouvelles colonnes\n",
    "``` mysql \n",
    "ALTER TABLE mytable\n",
    "ADD column DataType OptionalTableConstraint \n",
    "    DEFAULT default_value;\n",
    "```"
   ]
  },
  {
   "cell_type": "markdown",
   "metadata": {},
   "source": [
    "## Supprimer des colonnes\n"
   ]
  },
  {
   "cell_type": "markdown",
   "metadata": {
    "ExecuteTime": {
     "end_time": "2021-01-18T16:39:08.982875Z",
     "start_time": "2021-01-18T16:39:08.976631Z"
    }
   },
   "source": [
    "Supprimer des colonnes est aussi simple que de spécifier la colonne à supprimer, cependant, certaines bases de données (y compris SQLite) ne prennent pas en charge cette fonctionnalité. Au lieu de cela, vous devrez peut-être créer une nouvelle table et migrer les données"
   ]
  },
  {
   "cell_type": "markdown",
   "metadata": {},
   "source": [
    "Modifier le tableau pour supprimer la ou les colonnes\n",
    "``` mysql \n",
    "ALTER TABLE mytable\n",
    "DROP column_to_be_deleted;\n",
    "```"
   ]
  },
  {
   "cell_type": "markdown",
   "metadata": {},
   "source": [
    "## Renommer la table\n"
   ]
  },
  {
   "cell_type": "markdown",
   "metadata": {},
   "source": [
    "Si vous devez renommer la table elle-même, vous pouvez également le faire en utilisant la clause **RENAME TO** de l'instruction."
   ]
  },
  {
   "cell_type": "markdown",
   "metadata": {},
   "source": [
    "Modification du nom de la table\n",
    "``` mysql \n",
    "ALTER TABLE mytable\n",
    "RENAME TO new_table_name;\n",
    "```"
   ]
  },
  {
   "cell_type": "markdown",
   "metadata": {},
   "source": [
    "## Autres changements\n"
   ]
  },
  {
   "cell_type": "markdown",
   "metadata": {},
   "source": [
    "Chaque implémentation de base de données prend en charge différentes méthodes de modification de leurs tables, il est donc toujours préférable de consulter la documentation de votre base de données avant de continuer: MySQL , Postgres , SQLite , Microsoft SQL Server "
   ]
  },
  {
   "cell_type": "markdown",
   "metadata": {},
   "source": [
    "## Exercise"
   ]
  },
  {
   "cell_type": "markdown",
   "metadata": {},
   "source": [
    "Nos exercices utilisent une implémentation qui ne prend en charge que l'ajout de nouvelles colonnes, alors essayez ci-dessous.\n"
   ]
  },
  {
   "cell_type": "markdown",
   "metadata": {},
   "source": [
    "**IMPORTANT : Afin de répondre aux questions de l'exercise d'insérer la requête entre les doubles quotes \" \"**"
   ]
  },
  {
   "cell_type": "code",
   "execution_count": 2,
   "metadata": {
    "ExecuteTime": {
     "end_time": "2021-01-18T16:41:28.777531Z",
     "start_time": "2021-01-18T16:41:27.931214Z"
    }
   },
   "outputs": [],
   "source": [
    "import pandas as pd\n",
    "\n",
    "def to_df(s):\n",
    "    l= [elt.split(';') for elt in s.replace(\"\t\", \";\").split('\\n')]\n",
    "    return pd.DataFrame(l[1:], columns=l[0])"
   ]
  },
  {
   "cell_type": "code",
   "execution_count": 3,
   "metadata": {
    "ExecuteTime": {
     "end_time": "2021-01-18T16:41:28.938212Z",
     "start_time": "2021-01-18T16:41:28.779454Z"
    }
   },
   "outputs": [],
   "source": [
    "from pandasql import sqldf"
   ]
  },
  {
   "cell_type": "code",
   "execution_count": 4,
   "metadata": {
    "ExecuteTime": {
     "end_time": "2021-01-18T16:41:28.946504Z",
     "start_time": "2021-01-18T16:41:28.940842Z"
    }
   },
   "outputs": [],
   "source": [
    "x=\"\"\"Id\tTitle\tDirector\tYear\tLength_minutes\n",
    "1\tToy Story\tJohn Lasseter\t1995\t81\n",
    "2\tA Bug's Life\tJohn Lasseter\t1998\t95\n",
    "3\tToy Story 2\tJohn Lasseter\t1999\t93\n",
    "4\tMonsters, Inc.\tPete Docter\t2001\t92\n",
    "5\tFinding Nemo\tAndrew Stanton\t2003\t107\n",
    "6\tThe Incredibles\tBrad Bird\t2004\t116\n",
    "7\tCars\tJohn Lasseter\t2006\t117\n",
    "8\tRatatouille\tBrad Bird\t2007\t115\n",
    "9\tWALL-E\tAndrew Stanton\t2008\t104\n",
    "10\tUp\tPete Docter\t2009\t101\n",
    "11\tToy Story 3\tLee Unkrich\t2010\t103\n",
    "12\tCars 2\tJohn Lasseter\t2011\t120\n",
    "13\tBrave\tBrenda Chapman\t2012\t102\n",
    "14\tMonsters University\tDan Scanlon\t2013\t110\"\"\"\n",
    "Movies = to_df(x)"
   ]
  },
  {
   "cell_type": "code",
   "execution_count": 5,
   "metadata": {
    "ExecuteTime": {
     "end_time": "2021-01-18T16:41:28.966919Z",
     "start_time": "2021-01-18T16:41:28.948944Z"
    }
   },
   "outputs": [
    {
     "data": {
      "text/html": [
       "<div>\n",
       "<style scoped>\n",
       "    .dataframe tbody tr th:only-of-type {\n",
       "        vertical-align: middle;\n",
       "    }\n",
       "\n",
       "    .dataframe tbody tr th {\n",
       "        vertical-align: top;\n",
       "    }\n",
       "\n",
       "    .dataframe thead th {\n",
       "        text-align: right;\n",
       "    }\n",
       "</style>\n",
       "<table border=\"1\" class=\"dataframe\">\n",
       "  <thead>\n",
       "    <tr style=\"text-align: right;\">\n",
       "      <th></th>\n",
       "      <th>Id</th>\n",
       "      <th>Title</th>\n",
       "      <th>Director</th>\n",
       "      <th>Year</th>\n",
       "      <th>Length_minutes</th>\n",
       "    </tr>\n",
       "  </thead>\n",
       "  <tbody>\n",
       "    <tr>\n",
       "      <th>0</th>\n",
       "      <td>1</td>\n",
       "      <td>Toy Story</td>\n",
       "      <td>John Lasseter</td>\n",
       "      <td>1995</td>\n",
       "      <td>81</td>\n",
       "    </tr>\n",
       "    <tr>\n",
       "      <th>1</th>\n",
       "      <td>2</td>\n",
       "      <td>A Bug's Life</td>\n",
       "      <td>John Lasseter</td>\n",
       "      <td>1998</td>\n",
       "      <td>95</td>\n",
       "    </tr>\n",
       "    <tr>\n",
       "      <th>2</th>\n",
       "      <td>3</td>\n",
       "      <td>Toy Story 2</td>\n",
       "      <td>John Lasseter</td>\n",
       "      <td>1999</td>\n",
       "      <td>93</td>\n",
       "    </tr>\n",
       "    <tr>\n",
       "      <th>3</th>\n",
       "      <td>4</td>\n",
       "      <td>Monsters, Inc.</td>\n",
       "      <td>Pete Docter</td>\n",
       "      <td>2001</td>\n",
       "      <td>92</td>\n",
       "    </tr>\n",
       "    <tr>\n",
       "      <th>4</th>\n",
       "      <td>5</td>\n",
       "      <td>Finding Nemo</td>\n",
       "      <td>Andrew Stanton</td>\n",
       "      <td>2003</td>\n",
       "      <td>107</td>\n",
       "    </tr>\n",
       "    <tr>\n",
       "      <th>5</th>\n",
       "      <td>6</td>\n",
       "      <td>The Incredibles</td>\n",
       "      <td>Brad Bird</td>\n",
       "      <td>2004</td>\n",
       "      <td>116</td>\n",
       "    </tr>\n",
       "    <tr>\n",
       "      <th>6</th>\n",
       "      <td>7</td>\n",
       "      <td>Cars</td>\n",
       "      <td>John Lasseter</td>\n",
       "      <td>2006</td>\n",
       "      <td>117</td>\n",
       "    </tr>\n",
       "    <tr>\n",
       "      <th>7</th>\n",
       "      <td>8</td>\n",
       "      <td>Ratatouille</td>\n",
       "      <td>Brad Bird</td>\n",
       "      <td>2007</td>\n",
       "      <td>115</td>\n",
       "    </tr>\n",
       "    <tr>\n",
       "      <th>8</th>\n",
       "      <td>9</td>\n",
       "      <td>WALL-E</td>\n",
       "      <td>Andrew Stanton</td>\n",
       "      <td>2008</td>\n",
       "      <td>104</td>\n",
       "    </tr>\n",
       "    <tr>\n",
       "      <th>9</th>\n",
       "      <td>10</td>\n",
       "      <td>Up</td>\n",
       "      <td>Pete Docter</td>\n",
       "      <td>2009</td>\n",
       "      <td>101</td>\n",
       "    </tr>\n",
       "    <tr>\n",
       "      <th>10</th>\n",
       "      <td>11</td>\n",
       "      <td>Toy Story 3</td>\n",
       "      <td>Lee Unkrich</td>\n",
       "      <td>2010</td>\n",
       "      <td>103</td>\n",
       "    </tr>\n",
       "    <tr>\n",
       "      <th>11</th>\n",
       "      <td>12</td>\n",
       "      <td>Cars 2</td>\n",
       "      <td>John Lasseter</td>\n",
       "      <td>2011</td>\n",
       "      <td>120</td>\n",
       "    </tr>\n",
       "    <tr>\n",
       "      <th>12</th>\n",
       "      <td>13</td>\n",
       "      <td>Brave</td>\n",
       "      <td>Brenda Chapman</td>\n",
       "      <td>2012</td>\n",
       "      <td>102</td>\n",
       "    </tr>\n",
       "    <tr>\n",
       "      <th>13</th>\n",
       "      <td>14</td>\n",
       "      <td>Monsters University</td>\n",
       "      <td>Dan Scanlon</td>\n",
       "      <td>2013</td>\n",
       "      <td>110</td>\n",
       "    </tr>\n",
       "  </tbody>\n",
       "</table>\n",
       "</div>"
      ],
      "text/plain": [
       "    Id                Title        Director  Year Length_minutes\n",
       "0    1            Toy Story   John Lasseter  1995             81\n",
       "1    2         A Bug's Life   John Lasseter  1998             95\n",
       "2    3          Toy Story 2   John Lasseter  1999             93\n",
       "3    4       Monsters, Inc.     Pete Docter  2001             92\n",
       "4    5         Finding Nemo  Andrew Stanton  2003            107\n",
       "5    6      The Incredibles       Brad Bird  2004            116\n",
       "6    7                 Cars   John Lasseter  2006            117\n",
       "7    8          Ratatouille       Brad Bird  2007            115\n",
       "8    9               WALL-E  Andrew Stanton  2008            104\n",
       "9   10                   Up     Pete Docter  2009            101\n",
       "10  11          Toy Story 3     Lee Unkrich  2010            103\n",
       "11  12               Cars 2   John Lasseter  2011            120\n",
       "12  13                Brave  Brenda Chapman  2012            102\n",
       "13  14  Monsters University     Dan Scanlon  2013            110"
      ]
     },
     "execution_count": 5,
     "metadata": {},
     "output_type": "execute_result"
    }
   ],
   "source": [
    "Movies"
   ]
  },
  {
   "cell_type": "markdown",
   "metadata": {},
   "source": [
    "1. Ajoutez une colonne nommée Aspect_ratio avec un type de données FLOAT pour stocker le rapport hauteur / largeur dans lequel chaque film a été publié."
   ]
  },
  {
   "cell_type": "code",
   "execution_count": 16,
   "metadata": {
    "ExecuteTime": {
     "end_time": "2021-01-18T14:28:09.886634Z",
     "start_time": "2021-01-18T14:28:09.883564Z"
    }
   },
   "outputs": [],
   "source": [
    "QUERY1 = \"ALTER TABLE Movies ADD Aspect_ratio FLOAT DEFAULT 0.0;\""
   ]
  },
  {
   "cell_type": "code",
   "execution_count": 17,
   "metadata": {
    "ExecuteTime": {
     "end_time": "2021-01-18T14:28:11.183492Z",
     "start_time": "2021-01-18T14:28:11.159723Z"
    },
    "collapsed": true
   },
   "outputs": [
    {
     "data": {
      "text/html": [
       "<div>\n",
       "<style scoped>\n",
       "    .dataframe tbody tr th:only-of-type {\n",
       "        vertical-align: middle;\n",
       "    }\n",
       "\n",
       "    .dataframe tbody tr th {\n",
       "        vertical-align: top;\n",
       "    }\n",
       "\n",
       "    .dataframe thead th {\n",
       "        text-align: right;\n",
       "    }\n",
       "</style>\n",
       "<table border=\"1\" class=\"dataframe\">\n",
       "  <thead>\n",
       "    <tr style=\"text-align: right;\">\n",
       "      <th></th>\n",
       "      <th>Id</th>\n",
       "      <th>Title</th>\n",
       "      <th>Director</th>\n",
       "      <th>Year</th>\n",
       "      <th>Length_minutes</th>\n",
       "    </tr>\n",
       "  </thead>\n",
       "  <tbody>\n",
       "    <tr>\n",
       "      <th>0</th>\n",
       "      <td>1</td>\n",
       "      <td>Toy Story</td>\n",
       "      <td>John Lasseter</td>\n",
       "      <td>1995</td>\n",
       "      <td>81</td>\n",
       "    </tr>\n",
       "    <tr>\n",
       "      <th>1</th>\n",
       "      <td>2</td>\n",
       "      <td>A Bug's Life</td>\n",
       "      <td>John Lasseter</td>\n",
       "      <td>1998</td>\n",
       "      <td>95</td>\n",
       "    </tr>\n",
       "    <tr>\n",
       "      <th>2</th>\n",
       "      <td>3</td>\n",
       "      <td>Toy Story 2</td>\n",
       "      <td>John Lasseter</td>\n",
       "      <td>1999</td>\n",
       "      <td>93</td>\n",
       "    </tr>\n",
       "    <tr>\n",
       "      <th>3</th>\n",
       "      <td>4</td>\n",
       "      <td>Monsters, Inc.</td>\n",
       "      <td>Pete Docter</td>\n",
       "      <td>2001</td>\n",
       "      <td>92</td>\n",
       "    </tr>\n",
       "    <tr>\n",
       "      <th>4</th>\n",
       "      <td>5</td>\n",
       "      <td>Finding Nemo</td>\n",
       "      <td>Andrew Stanton</td>\n",
       "      <td>2003</td>\n",
       "      <td>107</td>\n",
       "    </tr>\n",
       "    <tr>\n",
       "      <th>5</th>\n",
       "      <td>6</td>\n",
       "      <td>The Incredibles</td>\n",
       "      <td>Brad Bird</td>\n",
       "      <td>2004</td>\n",
       "      <td>116</td>\n",
       "    </tr>\n",
       "    <tr>\n",
       "      <th>6</th>\n",
       "      <td>7</td>\n",
       "      <td>Cars</td>\n",
       "      <td>John Lasseter</td>\n",
       "      <td>2006</td>\n",
       "      <td>117</td>\n",
       "    </tr>\n",
       "    <tr>\n",
       "      <th>7</th>\n",
       "      <td>8</td>\n",
       "      <td>Ratatouille</td>\n",
       "      <td>Brad Bird</td>\n",
       "      <td>2007</td>\n",
       "      <td>115</td>\n",
       "    </tr>\n",
       "    <tr>\n",
       "      <th>8</th>\n",
       "      <td>9</td>\n",
       "      <td>WALL-E</td>\n",
       "      <td>Andrew Stanton</td>\n",
       "      <td>2008</td>\n",
       "      <td>104</td>\n",
       "    </tr>\n",
       "    <tr>\n",
       "      <th>9</th>\n",
       "      <td>10</td>\n",
       "      <td>Up</td>\n",
       "      <td>Pete Docter</td>\n",
       "      <td>2009</td>\n",
       "      <td>101</td>\n",
       "    </tr>\n",
       "    <tr>\n",
       "      <th>10</th>\n",
       "      <td>11</td>\n",
       "      <td>Toy Story 3</td>\n",
       "      <td>Lee Unkrich</td>\n",
       "      <td>2010</td>\n",
       "      <td>103</td>\n",
       "    </tr>\n",
       "    <tr>\n",
       "      <th>11</th>\n",
       "      <td>12</td>\n",
       "      <td>Cars 2</td>\n",
       "      <td>John Lasseter</td>\n",
       "      <td>2011</td>\n",
       "      <td>120</td>\n",
       "    </tr>\n",
       "    <tr>\n",
       "      <th>12</th>\n",
       "      <td>13</td>\n",
       "      <td>Brave</td>\n",
       "      <td>Brenda Chapman</td>\n",
       "      <td>2012</td>\n",
       "      <td>102</td>\n",
       "    </tr>\n",
       "    <tr>\n",
       "      <th>13</th>\n",
       "      <td>14</td>\n",
       "      <td>Monsters University</td>\n",
       "      <td>Dan Scanlon</td>\n",
       "      <td>2013</td>\n",
       "      <td>110</td>\n",
       "    </tr>\n",
       "  </tbody>\n",
       "</table>\n",
       "</div>"
      ],
      "text/plain": [
       "    Id                Title        Director  Year Length_minutes\n",
       "0    1            Toy Story   John Lasseter  1995             81\n",
       "1    2         A Bug's Life   John Lasseter  1998             95\n",
       "2    3          Toy Story 2   John Lasseter  1999             93\n",
       "3    4       Monsters, Inc.     Pete Docter  2001             92\n",
       "4    5         Finding Nemo  Andrew Stanton  2003            107\n",
       "5    6      The Incredibles       Brad Bird  2004            116\n",
       "6    7                 Cars   John Lasseter  2006            117\n",
       "7    8          Ratatouille       Brad Bird  2007            115\n",
       "8    9               WALL-E  Andrew Stanton  2008            104\n",
       "9   10                   Up     Pete Docter  2009            101\n",
       "10  11          Toy Story 3     Lee Unkrich  2010            103\n",
       "11  12               Cars 2   John Lasseter  2011            120\n",
       "12  13                Brave  Brenda Chapman  2012            102\n",
       "13  14  Monsters University     Dan Scanlon  2013            110"
      ]
     },
     "execution_count": 17,
     "metadata": {},
     "output_type": "execute_result"
    }
   ],
   "source": [
    "sqldf(QUERY1)"
   ]
  },
  {
   "cell_type": "markdown",
   "metadata": {},
   "source": [
    "2. Ajoutez une autre colonne nommée Langue avec un type de données TEXT pour stocker la langue dans laquelle le film a été publié. Assurez-vous que la langue par défaut pour cette langue est l' anglais ."
   ]
  },
  {
   "cell_type": "code",
   "execution_count": 16,
   "metadata": {
    "ExecuteTime": {
     "end_time": "2021-01-18T14:28:09.886634Z",
     "start_time": "2021-01-18T14:28:09.883564Z"
    }
   },
   "outputs": [],
   "source": [
    "QUERY2 = \"ALTER TABLE Movies ADD Langue TEXT DEFAULT 'English;\""
   ]
  },
  {
   "cell_type": "code",
   "execution_count": 17,
   "metadata": {
    "ExecuteTime": {
     "end_time": "2021-01-18T14:28:11.183492Z",
     "start_time": "2021-01-18T14:28:11.159723Z"
    },
    "collapsed": true
   },
   "outputs": [
    {
     "data": {
      "text/html": [
       "<div>\n",
       "<style scoped>\n",
       "    .dataframe tbody tr th:only-of-type {\n",
       "        vertical-align: middle;\n",
       "    }\n",
       "\n",
       "    .dataframe tbody tr th {\n",
       "        vertical-align: top;\n",
       "    }\n",
       "\n",
       "    .dataframe thead th {\n",
       "        text-align: right;\n",
       "    }\n",
       "</style>\n",
       "<table border=\"1\" class=\"dataframe\">\n",
       "  <thead>\n",
       "    <tr style=\"text-align: right;\">\n",
       "      <th></th>\n",
       "      <th>Id</th>\n",
       "      <th>Title</th>\n",
       "      <th>Director</th>\n",
       "      <th>Year</th>\n",
       "      <th>Length_minutes</th>\n",
       "    </tr>\n",
       "  </thead>\n",
       "  <tbody>\n",
       "    <tr>\n",
       "      <th>0</th>\n",
       "      <td>1</td>\n",
       "      <td>Toy Story</td>\n",
       "      <td>John Lasseter</td>\n",
       "      <td>1995</td>\n",
       "      <td>81</td>\n",
       "    </tr>\n",
       "    <tr>\n",
       "      <th>1</th>\n",
       "      <td>2</td>\n",
       "      <td>A Bug's Life</td>\n",
       "      <td>John Lasseter</td>\n",
       "      <td>1998</td>\n",
       "      <td>95</td>\n",
       "    </tr>\n",
       "    <tr>\n",
       "      <th>2</th>\n",
       "      <td>3</td>\n",
       "      <td>Toy Story 2</td>\n",
       "      <td>John Lasseter</td>\n",
       "      <td>1999</td>\n",
       "      <td>93</td>\n",
       "    </tr>\n",
       "    <tr>\n",
       "      <th>3</th>\n",
       "      <td>4</td>\n",
       "      <td>Monsters, Inc.</td>\n",
       "      <td>Pete Docter</td>\n",
       "      <td>2001</td>\n",
       "      <td>92</td>\n",
       "    </tr>\n",
       "    <tr>\n",
       "      <th>4</th>\n",
       "      <td>5</td>\n",
       "      <td>Finding Nemo</td>\n",
       "      <td>Andrew Stanton</td>\n",
       "      <td>2003</td>\n",
       "      <td>107</td>\n",
       "    </tr>\n",
       "    <tr>\n",
       "      <th>5</th>\n",
       "      <td>6</td>\n",
       "      <td>The Incredibles</td>\n",
       "      <td>Brad Bird</td>\n",
       "      <td>2004</td>\n",
       "      <td>116</td>\n",
       "    </tr>\n",
       "    <tr>\n",
       "      <th>6</th>\n",
       "      <td>7</td>\n",
       "      <td>Cars</td>\n",
       "      <td>John Lasseter</td>\n",
       "      <td>2006</td>\n",
       "      <td>117</td>\n",
       "    </tr>\n",
       "    <tr>\n",
       "      <th>7</th>\n",
       "      <td>8</td>\n",
       "      <td>Ratatouille</td>\n",
       "      <td>Brad Bird</td>\n",
       "      <td>2007</td>\n",
       "      <td>115</td>\n",
       "    </tr>\n",
       "    <tr>\n",
       "      <th>8</th>\n",
       "      <td>9</td>\n",
       "      <td>WALL-E</td>\n",
       "      <td>Andrew Stanton</td>\n",
       "      <td>2008</td>\n",
       "      <td>104</td>\n",
       "    </tr>\n",
       "    <tr>\n",
       "      <th>9</th>\n",
       "      <td>10</td>\n",
       "      <td>Up</td>\n",
       "      <td>Pete Docter</td>\n",
       "      <td>2009</td>\n",
       "      <td>101</td>\n",
       "    </tr>\n",
       "    <tr>\n",
       "      <th>10</th>\n",
       "      <td>11</td>\n",
       "      <td>Toy Story 3</td>\n",
       "      <td>Lee Unkrich</td>\n",
       "      <td>2010</td>\n",
       "      <td>103</td>\n",
       "    </tr>\n",
       "    <tr>\n",
       "      <th>11</th>\n",
       "      <td>12</td>\n",
       "      <td>Cars 2</td>\n",
       "      <td>John Lasseter</td>\n",
       "      <td>2011</td>\n",
       "      <td>120</td>\n",
       "    </tr>\n",
       "    <tr>\n",
       "      <th>12</th>\n",
       "      <td>13</td>\n",
       "      <td>Brave</td>\n",
       "      <td>Brenda Chapman</td>\n",
       "      <td>2012</td>\n",
       "      <td>102</td>\n",
       "    </tr>\n",
       "    <tr>\n",
       "      <th>13</th>\n",
       "      <td>14</td>\n",
       "      <td>Monsters University</td>\n",
       "      <td>Dan Scanlon</td>\n",
       "      <td>2013</td>\n",
       "      <td>110</td>\n",
       "    </tr>\n",
       "  </tbody>\n",
       "</table>\n",
       "</div>"
      ],
      "text/plain": [
       "    Id                Title        Director  Year Length_minutes\n",
       "0    1            Toy Story   John Lasseter  1995             81\n",
       "1    2         A Bug's Life   John Lasseter  1998             95\n",
       "2    3          Toy Story 2   John Lasseter  1999             93\n",
       "3    4       Monsters, Inc.     Pete Docter  2001             92\n",
       "4    5         Finding Nemo  Andrew Stanton  2003            107\n",
       "5    6      The Incredibles       Brad Bird  2004            116\n",
       "6    7                 Cars   John Lasseter  2006            117\n",
       "7    8          Ratatouille       Brad Bird  2007            115\n",
       "8    9               WALL-E  Andrew Stanton  2008            104\n",
       "9   10                   Up     Pete Docter  2009            101\n",
       "10  11          Toy Story 3     Lee Unkrich  2010            103\n",
       "11  12               Cars 2   John Lasseter  2011            120\n",
       "12  13                Brave  Brenda Chapman  2012            102\n",
       "13  14  Monsters University     Dan Scanlon  2013            110"
      ]
     },
     "execution_count": 17,
     "metadata": {},
     "output_type": "execute_result"
    }
   ],
   "source": [
    "sqldf(QUERY2)"
   ]
  },
  {
   "cell_type": "code",
   "execution_count": null,
   "metadata": {},
   "outputs": [],
   "source": []
  }
 ],
 "metadata": {
  "kernelspec": {
   "display_name": "Python 3",
   "language": "python",
   "name": "python3"
  },
  "language_info": {
   "codemirror_mode": {
    "name": "ipython",
    "version": 3
   },
   "file_extension": ".py",
   "mimetype": "text/x-python",
   "name": "python",
   "nbconvert_exporter": "python",
   "pygments_lexer": "ipython3",
   "version": "3.6.12"
  }
 },
 "nbformat": 4,
 "nbformat_minor": 1
}
