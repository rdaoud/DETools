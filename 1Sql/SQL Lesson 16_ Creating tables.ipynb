{
 "cells": [
  {
   "cell_type": "markdown",
   "metadata": {},
   "source": [
    "# Leçon SQL 16: Création de tables"
   ]
  },
  {
   "cell_type": "markdown",
   "metadata": {},
   "source": [
    "Lorsque vous avez de nouvelles entités et relations à stocker dans votre base de données, vous pouvez créer une nouvelle table de base de données à l'aide de l' instruction **CREATE TABLE**."
   ]
  },
  {
   "cell_type": "markdown",
   "metadata": {},
   "source": [
    "Créer une instruction de table avec une contrainte de table facultative et une valeur par défaut\n",
    "``` mysql \n",
    "CREATE TABLE IF NOT EXISTS mytable (\n",
    "    column DataType TableConstraint DEFAULT default_value,\n",
    "    another_column DataType TableConstraint DEFAULT default_value,\n",
    "    …\n",
    ");\n",
    "```"
   ]
  },
  {
   "cell_type": "markdown",
   "metadata": {},
   "source": [
    "La structure de la nouvelle table est définie par son *schéma de table*, qui définit une série de colonnes. Chaque colonne a un nom, le type de données autorisé dans cette colonne, une contrainte de table *facultative* sur les valeurs insérées et une valeur par défaut facultative."
   ]
  },
  {
   "cell_type": "markdown",
   "metadata": {},
   "source": [
    "S'il existe déjà une table avec le même nom, l'implémentation SQL lèvera généralement une erreur, donc pour supprimer l'erreur et ignorer la création d'une table s'il en existe une, vous pouvez utiliser la clause **IF NOT EXISTS**."
   ]
  },
  {
   "cell_type": "markdown",
   "metadata": {},
   "source": [
    "## Types de données de table\n"
   ]
  },
  {
   "cell_type": "markdown",
   "metadata": {},
   "source": [
    "Différentes bases de données prennent en charge différents types de données, mais les types courants prennent en charge des données numériques, des chaînes et d'autres éléments divers tels que des dates, des booléens ou même des données binaires. Voici quelques exemples que vous pourriez utiliser dans du code réel.\n",
    "\n"
   ]
  },
  {
   "cell_type": "code",
   "execution_count": 12,
   "metadata": {
    "ExecuteTime": {
     "end_time": "2021-01-18T16:32:04.259534Z",
     "start_time": "2021-01-18T16:32:04.255955Z"
    }
   },
   "outputs": [],
   "source": [
    "x=\"\"\"Type de données\tLa description\n",
    "INTEGER, BOOLEAN\tLes types de données entiers peuvent stocker des valeurs entières entières comme le décompte d'un nombre ou d'un âge. Dans certaines implémentations, la valeur booléenne est simplement représentée comme une valeur entière de seulement 0 ou 1.\n",
    "FLOAT, DOUBLE,REAL\tLes types de données à virgule flottante peuvent stocker des données numériques plus précises telles que des mesures ou des valeurs fractionnaires. Différents types peuvent être utilisés en fonction de la précision en virgule flottante requise pour cette valeur.\n",
    "CHARACTER(num_chars), VARCHAR(num_chars),TEXT\tLes types de données basés sur du texte peuvent stocker des chaînes et du texte dans toutes sortes de paramètres régionaux. La distinction entre les différents types revient généralement à sous-tendre l'efficacité de la base de données lors de l'utilisation de ces colonnes. Les types CHARACTER et VARCHAR (caractère variable) sont spécifiés avec le nombre maximum de caractères qu'ils peuvent stocker (les valeurs plus longues peuvent être tronquées), il peut donc être plus efficace de stocker et d'interroger avec de grandes tables.\n",
    "DATE, DATETIME\tSQL peut également stocker des horodatages pour garder une trace des séries chronologiques et des données d'événements. Ils peuvent être difficiles à utiliser, en particulier lors de la manipulation de données entre les fuseaux horaires.\n",
    "BLOB\tEnfin, SQL peut stocker des données binaires dans des objets blob directement dans la base de données. Ces valeurs sont souvent opaques pour la base de données, vous devez donc généralement les stocker avec les bonnes métadonnées pour les actualiser\"\"\""
   ]
  },
  {
   "cell_type": "code",
   "execution_count": 13,
   "metadata": {
    "ExecuteTime": {
     "end_time": "2021-01-18T16:32:04.528148Z",
     "start_time": "2021-01-18T16:32:04.523755Z"
    }
   },
   "outputs": [],
   "source": [
    "import pandas as pd\n",
    "\n",
    "def to_df(s):\n",
    "    l= [elt.split(';') for elt in s.replace(\"\t\", \";\").split('\\n')]\n",
    "    return pd.DataFrame(l[1:], columns=l[0])"
   ]
  },
  {
   "cell_type": "code",
   "execution_count": 14,
   "metadata": {
    "ExecuteTime": {
     "end_time": "2021-01-18T16:32:05.179736Z",
     "start_time": "2021-01-18T16:32:05.175671Z"
    }
   },
   "outputs": [],
   "source": [
    "ttypes = to_df(x)"
   ]
  },
  {
   "cell_type": "code",
   "execution_count": 15,
   "metadata": {
    "ExecuteTime": {
     "end_time": "2021-01-18T16:32:06.406399Z",
     "start_time": "2021-01-18T16:32:06.386178Z"
    }
   },
   "outputs": [
    {
     "data": {
      "text/html": [
       "<div>\n",
       "<style scoped>\n",
       "    .dataframe tbody tr th:only-of-type {\n",
       "        vertical-align: middle;\n",
       "    }\n",
       "\n",
       "    .dataframe tbody tr th {\n",
       "        vertical-align: top;\n",
       "    }\n",
       "\n",
       "    .dataframe thead th {\n",
       "        text-align: right;\n",
       "    }\n",
       "</style>\n",
       "<table border=\"1\" class=\"dataframe\">\n",
       "  <thead>\n",
       "    <tr style=\"text-align: right;\">\n",
       "      <th></th>\n",
       "      <th>Type de données</th>\n",
       "      <th>La description</th>\n",
       "    </tr>\n",
       "  </thead>\n",
       "  <tbody>\n",
       "    <tr>\n",
       "      <th>0</th>\n",
       "      <td>INTEGER, BOOLEAN</td>\n",
       "      <td>Les types de données entiers peuvent stocker d...</td>\n",
       "    </tr>\n",
       "    <tr>\n",
       "      <th>1</th>\n",
       "      <td>FLOAT, DOUBLE,REAL</td>\n",
       "      <td>Les types de données à virgule flottante peuve...</td>\n",
       "    </tr>\n",
       "    <tr>\n",
       "      <th>2</th>\n",
       "      <td>CHARACTER(num_chars), VARCHAR(num_chars),TEXT</td>\n",
       "      <td>Les types de données basés sur du texte peuven...</td>\n",
       "    </tr>\n",
       "    <tr>\n",
       "      <th>3</th>\n",
       "      <td>DATE, DATETIME</td>\n",
       "      <td>SQL peut également stocker des horodatages pou...</td>\n",
       "    </tr>\n",
       "    <tr>\n",
       "      <th>4</th>\n",
       "      <td>BLOB</td>\n",
       "      <td>Enfin, SQL peut stocker des données binaires d...</td>\n",
       "    </tr>\n",
       "  </tbody>\n",
       "</table>\n",
       "</div>"
      ],
      "text/plain": [
       "                                 Type de données  \\\n",
       "0                               INTEGER, BOOLEAN   \n",
       "1                             FLOAT, DOUBLE,REAL   \n",
       "2  CHARACTER(num_chars), VARCHAR(num_chars),TEXT   \n",
       "3                                 DATE, DATETIME   \n",
       "4                                           BLOB   \n",
       "\n",
       "                                      La description  \n",
       "0  Les types de données entiers peuvent stocker d...  \n",
       "1  Les types de données à virgule flottante peuve...  \n",
       "2  Les types de données basés sur du texte peuven...  \n",
       "3  SQL peut également stocker des horodatages pou...  \n",
       "4  Enfin, SQL peut stocker des données binaires d...  "
      ]
     },
     "execution_count": 15,
     "metadata": {},
     "output_type": "execute_result"
    }
   ],
   "source": [
    "ttypes"
   ]
  },
  {
   "cell_type": "markdown",
   "metadata": {},
   "source": [
    "## Contraintes de table"
   ]
  },
  {
   "cell_type": "markdown",
   "metadata": {},
   "source": [
    "Nous n'allons pas plonger trop profondément dans les contraintes de table dans cette leçon, mais chaque colonne peut avoir des contraintes de table supplémentaires qui limitent les valeurs qui peuvent être insérées dans cette colonne. Cette liste n'est pas exhaustive, mais elle montrera quelques contraintes courantes que vous pourriez trouver utiles."
   ]
  },
  {
   "cell_type": "code",
   "execution_count": 16,
   "metadata": {
    "ExecuteTime": {
     "end_time": "2021-01-18T16:33:26.638047Z",
     "start_time": "2021-01-18T16:33:26.635089Z"
    }
   },
   "outputs": [],
   "source": [
    "y=\"\"\"Contrainte\tLa description\n",
    "PRIMARY KEY\tCela signifie que les valeurs de cette colonne sont uniques et que chaque valeur peut être utilisée pour identifier une seule ligne dans ce tableau.\n",
    "AUTOINCREMENT\tPour les valeurs entières, cela signifie que la valeur est automatiquement renseignée et incrémentée à chaque insertion de ligne. Non pris en charge dans toutes les bases de données.\n",
    "UNIQUE\tCela signifie que les valeurs de cette colonne doivent être uniques, vous ne pouvez donc pas insérer une autre ligne avec la même valeur dans cette colonne qu'une autre ligne du tableau. Diffère de la «PRIMARY KEY» en ce qu'elle ne doit pas nécessairement être une clé pour une ligne dans la table.\n",
    "NOT NULL\tCela signifie que la valeur insérée ne peut pas être «NULL».\n",
    "CHECK (expression)\tCela vous permet d'exécuter une expression plus complexe pour tester si les valeurs insérées sont valides. Par exemple, vous pouvez vérifier que les valeurs sont positives, ou supérieures à une taille spécifique, ou commencer par un certain préfixe, etc.\n",
    "FOREIGN KEY\tIl s'agit d'un contrôle de cohérence qui garantit que chaque valeur de cette colonne correspond à une autre valeur d'une colonne d'une autre table. Par exemple, s'il y a deux tables, une répertoriant tous les employés par ID et une autre répertoriant leurs informations de paie, la `FOREIGN KEY` peut garantir que chaque ligne de la table de paie correspond à un employé valide dans la liste principale des employés.\"\"\""
   ]
  },
  {
   "cell_type": "code",
   "execution_count": 17,
   "metadata": {
    "ExecuteTime": {
     "end_time": "2021-01-18T16:33:40.768593Z",
     "start_time": "2021-01-18T16:33:40.764470Z"
    }
   },
   "outputs": [],
   "source": [
    "cttables = to_df(y)"
   ]
  },
  {
   "cell_type": "code",
   "execution_count": 18,
   "metadata": {
    "ExecuteTime": {
     "end_time": "2021-01-18T16:33:43.315083Z",
     "start_time": "2021-01-18T16:33:43.306385Z"
    }
   },
   "outputs": [
    {
     "data": {
      "text/html": [
       "<div>\n",
       "<style scoped>\n",
       "    .dataframe tbody tr th:only-of-type {\n",
       "        vertical-align: middle;\n",
       "    }\n",
       "\n",
       "    .dataframe tbody tr th {\n",
       "        vertical-align: top;\n",
       "    }\n",
       "\n",
       "    .dataframe thead th {\n",
       "        text-align: right;\n",
       "    }\n",
       "</style>\n",
       "<table border=\"1\" class=\"dataframe\">\n",
       "  <thead>\n",
       "    <tr style=\"text-align: right;\">\n",
       "      <th></th>\n",
       "      <th>Contrainte</th>\n",
       "      <th>La description</th>\n",
       "    </tr>\n",
       "  </thead>\n",
       "  <tbody>\n",
       "    <tr>\n",
       "      <th>0</th>\n",
       "      <td>PRIMARY KEY</td>\n",
       "      <td>Cela signifie que les valeurs de cette colonne...</td>\n",
       "    </tr>\n",
       "    <tr>\n",
       "      <th>1</th>\n",
       "      <td>AUTOINCREMENT</td>\n",
       "      <td>Pour les valeurs entières, cela signifie que l...</td>\n",
       "    </tr>\n",
       "    <tr>\n",
       "      <th>2</th>\n",
       "      <td>UNIQUE</td>\n",
       "      <td>Cela signifie que les valeurs de cette colonne...</td>\n",
       "    </tr>\n",
       "    <tr>\n",
       "      <th>3</th>\n",
       "      <td>NOT NULL</td>\n",
       "      <td>Cela signifie que la valeur insérée ne peut pa...</td>\n",
       "    </tr>\n",
       "    <tr>\n",
       "      <th>4</th>\n",
       "      <td>CHECK (expression)</td>\n",
       "      <td>Cela vous permet d'exécuter une expression plu...</td>\n",
       "    </tr>\n",
       "    <tr>\n",
       "      <th>5</th>\n",
       "      <td>FOREIGN KEY</td>\n",
       "      <td>Il s'agit d'un contrôle de cohérence qui garan...</td>\n",
       "    </tr>\n",
       "  </tbody>\n",
       "</table>\n",
       "</div>"
      ],
      "text/plain": [
       "           Contrainte                                     La description\n",
       "0         PRIMARY KEY  Cela signifie que les valeurs de cette colonne...\n",
       "1       AUTOINCREMENT  Pour les valeurs entières, cela signifie que l...\n",
       "2              UNIQUE  Cela signifie que les valeurs de cette colonne...\n",
       "3            NOT NULL  Cela signifie que la valeur insérée ne peut pa...\n",
       "4  CHECK (expression)  Cela vous permet d'exécuter une expression plu...\n",
       "5         FOREIGN KEY  Il s'agit d'un contrôle de cohérence qui garan..."
      ]
     },
     "execution_count": 18,
     "metadata": {},
     "output_type": "execute_result"
    }
   ],
   "source": [
    "cttables"
   ]
  },
  {
   "cell_type": "markdown",
   "metadata": {},
   "source": [
    "## Un exemple"
   ]
  },
  {
   "cell_type": "markdown",
   "metadata": {},
   "source": [
    "Schéma de la table Movies\n",
    "``` mysql \n",
    "CREATE TABLE movies (\n",
    "    id INTEGER PRIMARY KEY,\n",
    "    title TEXT,\n",
    "    director TEXT,\n",
    "    year INTEGER, \n",
    "    length_minutes INTEGER\n",
    ");\n",
    "```"
   ]
  },
  {
   "cell_type": "markdown",
   "metadata": {},
   "source": [
    "## Exercise"
   ]
  },
  {
   "cell_type": "markdown",
   "metadata": {},
   "source": [
    "Dans cet exercice, vous devrez créer une nouvelle table dans laquelle insérer de nouvelles lignes."
   ]
  },
  {
   "cell_type": "markdown",
   "metadata": {},
   "source": [
    "**IMPORTANT : Afin de répondre aux questions de l'exercise d'insérer la requête entre les doubles quotes \" \"**"
   ]
  },
  {
   "cell_type": "code",
   "execution_count": 14,
   "metadata": {
    "ExecuteTime": {
     "end_time": "2021-01-18T14:27:09.744670Z",
     "start_time": "2021-01-18T14:27:09.595039Z"
    }
   },
   "outputs": [],
   "source": [
    "from pandasql import sqldf"
   ]
  },
  {
   "cell_type": "markdown",
   "metadata": {},
   "source": [
    "Créez une nouvelle table nommée Databaseavec les colonnes suivantes:\n",
    "- Name: Une chaîne (texte) décrivant le nom de la base de données\n",
    "- Version: Un nombre (virgule flottante) de la dernière version de cette base de données\n",
    "- Download_count: Un nombre entier du nombre de fois que cette base de données a été téléchargée\n",
    "Cette table n'a aucune contrainte."
   ]
  },
  {
   "cell_type": "code",
   "execution_count": 16,
   "metadata": {
    "ExecuteTime": {
     "end_time": "2021-01-18T14:28:09.886634Z",
     "start_time": "2021-01-18T14:28:09.883564Z"
    }
   },
   "outputs": [],
   "source": [
    "QUERY1 = \"CREATE TABLE Database(\n",
    "    id INTEGER PRIMARY KEY, \n",
    "    name VARCHAR(255), \n",
    "    version FLOAT, \n",
    "    Downnload_count UNSIGNED INTEGER\n",
    ");\""
   ]
  },
  {
   "cell_type": "code",
   "execution_count": 17,
   "metadata": {
    "ExecuteTime": {
     "end_time": "2021-01-18T14:28:11.183492Z",
     "start_time": "2021-01-18T14:28:11.159723Z"
    },
    "collapsed": true
   },
   "outputs": [
    {
     "data": {
      "text/html": [
       "<div>\n",
       "<style scoped>\n",
       "    .dataframe tbody tr th:only-of-type {\n",
       "        vertical-align: middle;\n",
       "    }\n",
       "\n",
       "    .dataframe tbody tr th {\n",
       "        vertical-align: top;\n",
       "    }\n",
       "\n",
       "    .dataframe thead th {\n",
       "        text-align: right;\n",
       "    }\n",
       "</style>\n",
       "<table border=\"1\" class=\"dataframe\">\n",
       "  <thead>\n",
       "    <tr style=\"text-align: right;\">\n",
       "      <th></th>\n",
       "      <th>Id</th>\n",
       "      <th>Title</th>\n",
       "      <th>Director</th>\n",
       "      <th>Year</th>\n",
       "      <th>Length_minutes</th>\n",
       "    </tr>\n",
       "  </thead>\n",
       "  <tbody>\n",
       "    <tr>\n",
       "      <th>0</th>\n",
       "      <td>1</td>\n",
       "      <td>Toy Story</td>\n",
       "      <td>John Lasseter</td>\n",
       "      <td>1995</td>\n",
       "      <td>81</td>\n",
       "    </tr>\n",
       "    <tr>\n",
       "      <th>1</th>\n",
       "      <td>2</td>\n",
       "      <td>A Bug's Life</td>\n",
       "      <td>John Lasseter</td>\n",
       "      <td>1998</td>\n",
       "      <td>95</td>\n",
       "    </tr>\n",
       "    <tr>\n",
       "      <th>2</th>\n",
       "      <td>3</td>\n",
       "      <td>Toy Story 2</td>\n",
       "      <td>John Lasseter</td>\n",
       "      <td>1999</td>\n",
       "      <td>93</td>\n",
       "    </tr>\n",
       "    <tr>\n",
       "      <th>3</th>\n",
       "      <td>4</td>\n",
       "      <td>Monsters, Inc.</td>\n",
       "      <td>Pete Docter</td>\n",
       "      <td>2001</td>\n",
       "      <td>92</td>\n",
       "    </tr>\n",
       "    <tr>\n",
       "      <th>4</th>\n",
       "      <td>5</td>\n",
       "      <td>Finding Nemo</td>\n",
       "      <td>Andrew Stanton</td>\n",
       "      <td>2003</td>\n",
       "      <td>107</td>\n",
       "    </tr>\n",
       "    <tr>\n",
       "      <th>5</th>\n",
       "      <td>6</td>\n",
       "      <td>The Incredibles</td>\n",
       "      <td>Brad Bird</td>\n",
       "      <td>2004</td>\n",
       "      <td>116</td>\n",
       "    </tr>\n",
       "    <tr>\n",
       "      <th>6</th>\n",
       "      <td>7</td>\n",
       "      <td>Cars</td>\n",
       "      <td>John Lasseter</td>\n",
       "      <td>2006</td>\n",
       "      <td>117</td>\n",
       "    </tr>\n",
       "    <tr>\n",
       "      <th>7</th>\n",
       "      <td>8</td>\n",
       "      <td>Ratatouille</td>\n",
       "      <td>Brad Bird</td>\n",
       "      <td>2007</td>\n",
       "      <td>115</td>\n",
       "    </tr>\n",
       "    <tr>\n",
       "      <th>8</th>\n",
       "      <td>9</td>\n",
       "      <td>WALL-E</td>\n",
       "      <td>Andrew Stanton</td>\n",
       "      <td>2008</td>\n",
       "      <td>104</td>\n",
       "    </tr>\n",
       "    <tr>\n",
       "      <th>9</th>\n",
       "      <td>10</td>\n",
       "      <td>Up</td>\n",
       "      <td>Pete Docter</td>\n",
       "      <td>2009</td>\n",
       "      <td>101</td>\n",
       "    </tr>\n",
       "    <tr>\n",
       "      <th>10</th>\n",
       "      <td>11</td>\n",
       "      <td>Toy Story 3</td>\n",
       "      <td>Lee Unkrich</td>\n",
       "      <td>2010</td>\n",
       "      <td>103</td>\n",
       "    </tr>\n",
       "    <tr>\n",
       "      <th>11</th>\n",
       "      <td>12</td>\n",
       "      <td>Cars 2</td>\n",
       "      <td>John Lasseter</td>\n",
       "      <td>2011</td>\n",
       "      <td>120</td>\n",
       "    </tr>\n",
       "    <tr>\n",
       "      <th>12</th>\n",
       "      <td>13</td>\n",
       "      <td>Brave</td>\n",
       "      <td>Brenda Chapman</td>\n",
       "      <td>2012</td>\n",
       "      <td>102</td>\n",
       "    </tr>\n",
       "    <tr>\n",
       "      <th>13</th>\n",
       "      <td>14</td>\n",
       "      <td>Monsters University</td>\n",
       "      <td>Dan Scanlon</td>\n",
       "      <td>2013</td>\n",
       "      <td>110</td>\n",
       "    </tr>\n",
       "  </tbody>\n",
       "</table>\n",
       "</div>"
      ],
      "text/plain": [
       "    Id                Title        Director  Year Length_minutes\n",
       "0    1            Toy Story   John Lasseter  1995             81\n",
       "1    2         A Bug's Life   John Lasseter  1998             95\n",
       "2    3          Toy Story 2   John Lasseter  1999             93\n",
       "3    4       Monsters, Inc.     Pete Docter  2001             92\n",
       "4    5         Finding Nemo  Andrew Stanton  2003            107\n",
       "5    6      The Incredibles       Brad Bird  2004            116\n",
       "6    7                 Cars   John Lasseter  2006            117\n",
       "7    8          Ratatouille       Brad Bird  2007            115\n",
       "8    9               WALL-E  Andrew Stanton  2008            104\n",
       "9   10                   Up     Pete Docter  2009            101\n",
       "10  11          Toy Story 3     Lee Unkrich  2010            103\n",
       "11  12               Cars 2   John Lasseter  2011            120\n",
       "12  13                Brave  Brenda Chapman  2012            102\n",
       "13  14  Monsters University     Dan Scanlon  2013            110"
      ]
     },
     "execution_count": 17,
     "metadata": {},
     "output_type": "execute_result"
    }
   ],
   "source": [
    "sqldf(QUERY1)"
   ]
  },
  {
   "cell_type": "code",
   "execution_count": null,
   "metadata": {},
   "outputs": [],
   "source": []
  },
  {
   "cell_type": "code",
   "execution_count": null,
   "metadata": {},
   "outputs": [],
   "source": []
  },
  {
   "cell_type": "code",
   "execution_count": null,
   "metadata": {},
   "outputs": [],
   "source": []
  }
 ],
 "metadata": {
  "kernelspec": {
   "display_name": "Python 3",
   "language": "python",
   "name": "python3"
  },
  "language_info": {
   "codemirror_mode": {
    "name": "ipython",
    "version": 3
   },
   "file_extension": ".py",
   "mimetype": "text/x-python",
   "name": "python",
   "nbconvert_exporter": "python",
   "pygments_lexer": "ipython3",
   "version": "3.6.12"
  }
 },
 "nbformat": 4,
 "nbformat_minor": 1
}
