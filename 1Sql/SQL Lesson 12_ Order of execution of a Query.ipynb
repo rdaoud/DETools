{
 "cells": [
  {
   "cell_type": "markdown",
   "metadata": {},
   "source": [
    "# Leçon SQL 12: Ordre d'exécution d'une requête"
   ]
  },
  {
   "cell_type": "markdown",
   "metadata": {},
   "source": [
    "Maintenant que nous avons une idée de toutes les parties d'une requête, nous pouvons maintenant parler de la façon dont elles s'articulent toutes dans le contexte d'une requête complète."
   ]
  },
  {
   "cell_type": "markdown",
   "metadata": {},
   "source": [
    "Requête SELECT complète\n",
    "``` mysql \n",
    "SELECT DISTINCT column, AGG_FUNC(column_or_expression), …\n",
    "FROM mytable\n",
    "    JOIN another_table\n",
    "      ON mytable.column = another_table.column\n",
    "    WHERE constraint_expression\n",
    "    GROUP BY column\n",
    "    HAVING constraint_expression\n",
    "    ORDER BY column ASC/DESC\n",
    "    LIMIT count OFFSET COUNT;\n",
    "```"
   ]
  },
  {
   "cell_type": "markdown",
   "metadata": {},
   "source": [
    "Chaque requête commence par rechercher les données dont nous avons besoin dans une base de données, puis filtrer ces données en quelque chose qui peut être traité et compris le plus rapidement possible. Étant donné que chaque partie de la requête est exécutée de manière séquentielle, il est important de comprendre l'ordre d'exécution afin de savoir quels résultats sont accessibles où."
   ]
  },
  {
   "cell_type": "markdown",
   "metadata": {},
   "source": [
    "## Ordre d'exécution des requêtes"
   ]
  },
  {
   "cell_type": "markdown",
   "metadata": {
    "ExecuteTime": {
     "end_time": "2021-01-18T16:08:31.817005Z",
     "start_time": "2021-01-18T16:08:31.814164Z"
    }
   },
   "source": [
    "### 1. FROM et JOIN"
   ]
  },
  {
   "cell_type": "markdown",
   "metadata": {},
   "source": [
    "La clause FROM et les JOIN suivants sont d'abord exécutés pour déterminer l'ensemble de travail total de données interrogées. Cela inclut les sous-requêtes dans cette clause et peut entraîner la création de tables temporaires sous le capot contenant toutes les colonnes et lignes des tables jointes."
   ]
  },
  {
   "cell_type": "markdown",
   "metadata": {
    "ExecuteTime": {
     "end_time": "2021-01-18T16:08:31.817005Z",
     "start_time": "2021-01-18T16:08:31.814164Z"
    }
   },
   "source": [
    "### 2. WHERE"
   ]
  },
  {
   "cell_type": "markdown",
   "metadata": {},
   "source": [
    "Une fois que nous avons le jeu de données de travail total, les contraintes WHERE de premier passage sont appliquées aux lignes individuelles, et les lignes qui ne satisfont pas à la contrainte sont ignorées. Chacune des contraintes peut uniquement accéder aux colonnes directement à partir des tables demandées dans la clause FROM. Les alias de la partie SELECT de la requête ne sont pas accessibles dans la plupart des bases de données car ils peuvent inclure des expressions dépendant de parties de la requête qui n'ont pas encore été exécutées."
   ]
  },
  {
   "cell_type": "markdown",
   "metadata": {
    "ExecuteTime": {
     "end_time": "2021-01-18T16:08:31.817005Z",
     "start_time": "2021-01-18T16:08:31.814164Z"
    }
   },
   "source": [
    "### 3. GROUP BY"
   ]
  },
  {
   "cell_type": "markdown",
   "metadata": {},
   "source": [
    "Les lignes restantes après l'application des contraintes WHERE sont ensuite regroupées en fonction des valeurs communes de la colonne spécifiée dans la clause GROUP BY. En raison du regroupement, il n'y aura que le nombre de lignes qu'il y aura de valeurs uniques dans cette colonne. Implicitement, cela signifie que vous ne devriez avoir besoin de l'utiliser que lorsque vous avez des fonctions d'agrégation dans votre requête."
   ]
  },
  {
   "cell_type": "markdown",
   "metadata": {
    "ExecuteTime": {
     "end_time": "2021-01-18T16:08:31.817005Z",
     "start_time": "2021-01-18T16:08:31.814164Z"
    }
   },
   "source": [
    "### 4. HAVING"
   ]
  },
  {
   "cell_type": "markdown",
   "metadata": {},
   "source": [
    "Si la requête a une clause GROUP BY, les contraintes de la clause HAVING sont alors appliquées aux lignes groupées, supprimez les lignes groupées qui ne satisfont pas la contrainte. Comme la clause WHERE, les alias ne sont pas non plus accessibles à partir de cette étape dans la plupart des bases de données."
   ]
  },
  {
   "cell_type": "markdown",
   "metadata": {
    "ExecuteTime": {
     "end_time": "2021-01-18T16:08:31.817005Z",
     "start_time": "2021-01-18T16:08:31.814164Z"
    }
   },
   "source": [
    "### 5. SELECT"
   ]
  },
  {
   "cell_type": "markdown",
   "metadata": {},
   "source": [
    "Toutes les expressions de la partie SELECT de la requête sont finalement calculées."
   ]
  },
  {
   "cell_type": "markdown",
   "metadata": {},
   "source": [
    "### 6. DISTINCT"
   ]
  },
  {
   "cell_type": "markdown",
   "metadata": {},
   "source": [
    "Parmi les lignes restantes, les lignes avec des valeurs en double dans la colonne marquée DISTINCT seront supprimées."
   ]
  },
  {
   "cell_type": "markdown",
   "metadata": {},
   "source": [
    "### 7. ORDER BY"
   ]
  },
  {
   "cell_type": "markdown",
   "metadata": {},
   "source": [
    "Si un ordre est spécifié par la clause ORDER BY, les lignes sont ensuite triées en fonction des données spécifiées dans l'ordre croissant ou décroissant. Étant donné que toutes les expressions de la partie SELECT de la requête ont été calculées, vous pouvez référencer des alias dans cette clause."
   ]
  },
  {
   "cell_type": "markdown",
   "metadata": {},
   "source": [
    "### 8. LIMIT / OFFSET"
   ]
  },
  {
   "cell_type": "markdown",
   "metadata": {},
   "source": [
    "Enfin, les lignes qui tombent en dehors de la plage spécifiée par LIMIT et OFFSET sont ignorées, laissant l'ensemble final de lignes à renvoyer à partir de la requête."
   ]
  },
  {
   "cell_type": "markdown",
   "metadata": {},
   "source": [
    "### Conclusion"
   ]
  },
  {
   "cell_type": "markdown",
   "metadata": {},
   "source": [
    "Toutes les requêtes ne doivent pas nécessairement contenir toutes les parties que nous avons répertoriées ci-dessus, mais une partie de la raison pour laquelle SQL est si flexible est qu'il permet aux développeurs et aux analystes de données de manipuler rapidement les données sans avoir à écrire du code supplémentaire, le tout en utilisant simplement les clauses ci-dessus."
   ]
  },
  {
   "cell_type": "markdown",
   "metadata": {},
   "source": [
    "## Exercice"
   ]
  },
  {
   "cell_type": "markdown",
   "metadata": {},
   "source": [
    "Ici se termine nos leçons sur les requêtes **SELECT**, félicitations pour l'avoir fait jusqu'ici! Cet exercice essaiera de tester votre compréhension des requêtes, alors ne vous découragez pas si vous les trouvez difficiles. Juste faites de votre mieux."
   ]
  },
  {
   "cell_type": "markdown",
   "metadata": {},
   "source": [
    "**IMPORTANT : Afin de répondre aux questions de l'exercise d'insérer la requête entre les doubles quotes \" \"**"
   ]
  },
  {
   "cell_type": "code",
   "execution_count": 7,
   "metadata": {
    "ExecuteTime": {
     "end_time": "2021-01-18T16:12:30.723506Z",
     "start_time": "2021-01-18T16:12:29.878727Z"
    }
   },
   "outputs": [],
   "source": [
    "import pandas as pd\n",
    "\n",
    "def to_df(s):\n",
    "    l= [elt.split(';') for elt in s.replace(\"\t\", \";\").split('\\n')]\n",
    "    return pd.DataFrame(l[1:], columns=l[0])"
   ]
  },
  {
   "cell_type": "code",
   "execution_count": 8,
   "metadata": {
    "ExecuteTime": {
     "end_time": "2021-01-18T16:12:30.900230Z",
     "start_time": "2021-01-18T16:12:30.726723Z"
    }
   },
   "outputs": [],
   "source": [
    "from pandasql import sqldf"
   ]
  },
  {
   "cell_type": "code",
   "execution_count": 11,
   "metadata": {
    "ExecuteTime": {
     "end_time": "2021-01-18T16:12:30.911260Z",
     "start_time": "2021-01-18T16:12:30.904924Z"
    }
   },
   "outputs": [],
   "source": [
    "x=\"\"\"Id\tTitle\tDirector\tYear\tLength_minutes\n",
    "1\tToy Story\tJohn Lasseter\t1995\t81\n",
    "2\tA Bug's Life\tJohn Lasseter\t1998\t95\n",
    "3\tToy Story 2\tJohn Lasseter\t1999\t93\n",
    "4\tMonsters, Inc.\tPete Docter\t2001\t92\n",
    "5\tFinding Nemo\tAndrew Stanton\t2003\t107\n",
    "6\tThe Incredibles\tBrad Bird\t2004\t116\n",
    "7\tCars\tJohn Lasseter\t2006\t117\n",
    "8\tRatatouille\tBrad Bird\t2007\t115\n",
    "9\tWALL-E\tAndrew Stanton\t2008\t104\n",
    "10\tUp\tPete Docter\t2009\t101\n",
    "11\tToy Story 3\tLee Unkrich\t2010\t103\n",
    "12\tCars 2\tJohn Lasseter\t2011\t120\n",
    "13\tBrave\tBrenda Chapman\t2012\t102\n",
    "14\tMonsters University\tDan Scanlon\t2013\t110\"\"\"\n",
    "Movies = to_df(x)"
   ]
  },
  {
   "cell_type": "code",
   "execution_count": 12,
   "metadata": {
    "ExecuteTime": {
     "end_time": "2021-01-18T16:12:30.931559Z",
     "start_time": "2021-01-18T16:12:30.913411Z"
    }
   },
   "outputs": [
    {
     "data": {
      "text/html": [
       "<div>\n",
       "<style>\n",
       "    .dataframe thead tr:only-child th {\n",
       "        text-align: right;\n",
       "    }\n",
       "\n",
       "    .dataframe thead th {\n",
       "        text-align: left;\n",
       "    }\n",
       "\n",
       "    .dataframe tbody tr th {\n",
       "        vertical-align: top;\n",
       "    }\n",
       "</style>\n",
       "<table border=\"1\" class=\"dataframe\">\n",
       "  <thead>\n",
       "    <tr style=\"text-align: right;\">\n",
       "      <th></th>\n",
       "      <th>Id</th>\n",
       "      <th>Title</th>\n",
       "      <th>Director</th>\n",
       "      <th>Year</th>\n",
       "      <th>Length_minutes</th>\n",
       "    </tr>\n",
       "  </thead>\n",
       "  <tbody>\n",
       "    <tr>\n",
       "      <th>0</th>\n",
       "      <td>1</td>\n",
       "      <td>Toy Story</td>\n",
       "      <td>John Lasseter</td>\n",
       "      <td>1995</td>\n",
       "      <td>81</td>\n",
       "    </tr>\n",
       "    <tr>\n",
       "      <th>1</th>\n",
       "      <td>2</td>\n",
       "      <td>A Bug's Life</td>\n",
       "      <td>John Lasseter</td>\n",
       "      <td>1998</td>\n",
       "      <td>95</td>\n",
       "    </tr>\n",
       "    <tr>\n",
       "      <th>2</th>\n",
       "      <td>3</td>\n",
       "      <td>Toy Story 2</td>\n",
       "      <td>John Lasseter</td>\n",
       "      <td>1999</td>\n",
       "      <td>93</td>\n",
       "    </tr>\n",
       "    <tr>\n",
       "      <th>3</th>\n",
       "      <td>4</td>\n",
       "      <td>Monsters, Inc.</td>\n",
       "      <td>Pete Docter</td>\n",
       "      <td>2001</td>\n",
       "      <td>92</td>\n",
       "    </tr>\n",
       "    <tr>\n",
       "      <th>4</th>\n",
       "      <td>5</td>\n",
       "      <td>Finding Nemo</td>\n",
       "      <td>Andrew Stanton</td>\n",
       "      <td>2003</td>\n",
       "      <td>107</td>\n",
       "    </tr>\n",
       "    <tr>\n",
       "      <th>5</th>\n",
       "      <td>6</td>\n",
       "      <td>The Incredibles</td>\n",
       "      <td>Brad Bird</td>\n",
       "      <td>2004</td>\n",
       "      <td>116</td>\n",
       "    </tr>\n",
       "    <tr>\n",
       "      <th>6</th>\n",
       "      <td>7</td>\n",
       "      <td>Cars</td>\n",
       "      <td>John Lasseter</td>\n",
       "      <td>2006</td>\n",
       "      <td>117</td>\n",
       "    </tr>\n",
       "    <tr>\n",
       "      <th>7</th>\n",
       "      <td>8</td>\n",
       "      <td>Ratatouille</td>\n",
       "      <td>Brad Bird</td>\n",
       "      <td>2007</td>\n",
       "      <td>115</td>\n",
       "    </tr>\n",
       "    <tr>\n",
       "      <th>8</th>\n",
       "      <td>9</td>\n",
       "      <td>WALL-E</td>\n",
       "      <td>Andrew Stanton</td>\n",
       "      <td>2008</td>\n",
       "      <td>104</td>\n",
       "    </tr>\n",
       "    <tr>\n",
       "      <th>9</th>\n",
       "      <td>10</td>\n",
       "      <td>Up</td>\n",
       "      <td>Pete Docter</td>\n",
       "      <td>2009</td>\n",
       "      <td>101</td>\n",
       "    </tr>\n",
       "    <tr>\n",
       "      <th>10</th>\n",
       "      <td>11</td>\n",
       "      <td>Toy Story 3</td>\n",
       "      <td>Lee Unkrich</td>\n",
       "      <td>2010</td>\n",
       "      <td>103</td>\n",
       "    </tr>\n",
       "    <tr>\n",
       "      <th>11</th>\n",
       "      <td>12</td>\n",
       "      <td>Cars 2</td>\n",
       "      <td>John Lasseter</td>\n",
       "      <td>2011</td>\n",
       "      <td>120</td>\n",
       "    </tr>\n",
       "    <tr>\n",
       "      <th>12</th>\n",
       "      <td>13</td>\n",
       "      <td>Brave</td>\n",
       "      <td>Brenda Chapman</td>\n",
       "      <td>2012</td>\n",
       "      <td>102</td>\n",
       "    </tr>\n",
       "    <tr>\n",
       "      <th>13</th>\n",
       "      <td>14</td>\n",
       "      <td>Monsters University</td>\n",
       "      <td>Dan Scanlon</td>\n",
       "      <td>2013</td>\n",
       "      <td>110</td>\n",
       "    </tr>\n",
       "  </tbody>\n",
       "</table>\n",
       "</div>"
      ],
      "text/plain": [
       "    Id                Title        Director  Year Length_minutes\n",
       "0    1            Toy Story   John Lasseter  1995             81\n",
       "1    2         A Bug's Life   John Lasseter  1998             95\n",
       "2    3          Toy Story 2   John Lasseter  1999             93\n",
       "3    4       Monsters, Inc.     Pete Docter  2001             92\n",
       "4    5         Finding Nemo  Andrew Stanton  2003            107\n",
       "5    6      The Incredibles       Brad Bird  2004            116\n",
       "6    7                 Cars   John Lasseter  2006            117\n",
       "7    8          Ratatouille       Brad Bird  2007            115\n",
       "8    9               WALL-E  Andrew Stanton  2008            104\n",
       "9   10                   Up     Pete Docter  2009            101\n",
       "10  11          Toy Story 3     Lee Unkrich  2010            103\n",
       "11  12               Cars 2   John Lasseter  2011            120\n",
       "12  13                Brave  Brenda Chapman  2012            102\n",
       "13  14  Monsters University     Dan Scanlon  2013            110"
      ]
     },
     "execution_count": 12,
     "metadata": {},
     "output_type": "execute_result"
    }
   ],
   "source": [
    "Movies"
   ]
  },
  {
   "cell_type": "code",
   "execution_count": 13,
   "metadata": {
    "ExecuteTime": {
     "end_time": "2021-01-18T16:13:16.928477Z",
     "start_time": "2021-01-18T16:13:16.925072Z"
    }
   },
   "outputs": [],
   "source": [
    "y=\"\"\"Movie_id\tRating\tDomestic_sales\tInternational_sales\n",
    "5\t8.2\t380843261\t555900000\n",
    "14\t7.4\t268492764\t475066843\n",
    "8\t8\t206445654\t417277164\n",
    "12\t6.4\t191452396\t368400000\n",
    "3\t7.9\t245852179\t239163000\n",
    "6\t8\t261441092\t370001000\n",
    "9\t8.5\t223808164\t297503696\n",
    "11\t8.4\t415004880\t648167031\n",
    "1\t8.3\t191796233\t170162503\n",
    "7\t7.2\t244082982\t217900167\n",
    "10\t8.3\t293004164\t438338580\n",
    "4\t8.1\t289916256\t272900000\n",
    "2\t7.2\t162798565\t200600000\n",
    "13\t7.2\t237283207\t301700000\"\"\""
   ]
  },
  {
   "cell_type": "code",
   "execution_count": 14,
   "metadata": {
    "ExecuteTime": {
     "end_time": "2021-01-18T16:13:17.112740Z",
     "start_time": "2021-01-18T16:13:17.108444Z"
    }
   },
   "outputs": [],
   "source": [
    "BoxOffice = to_df(y)"
   ]
  },
  {
   "cell_type": "code",
   "execution_count": 15,
   "metadata": {
    "ExecuteTime": {
     "end_time": "2021-01-18T16:13:17.490724Z",
     "start_time": "2021-01-18T16:13:17.479540Z"
    }
   },
   "outputs": [
    {
     "data": {
      "text/html": [
       "<div>\n",
       "<style>\n",
       "    .dataframe thead tr:only-child th {\n",
       "        text-align: right;\n",
       "    }\n",
       "\n",
       "    .dataframe thead th {\n",
       "        text-align: left;\n",
       "    }\n",
       "\n",
       "    .dataframe tbody tr th {\n",
       "        vertical-align: top;\n",
       "    }\n",
       "</style>\n",
       "<table border=\"1\" class=\"dataframe\">\n",
       "  <thead>\n",
       "    <tr style=\"text-align: right;\">\n",
       "      <th></th>\n",
       "      <th>Movie_id</th>\n",
       "      <th>Rating</th>\n",
       "      <th>Domestic_sales</th>\n",
       "      <th>International_sales</th>\n",
       "    </tr>\n",
       "  </thead>\n",
       "  <tbody>\n",
       "    <tr>\n",
       "      <th>0</th>\n",
       "      <td>5</td>\n",
       "      <td>8.2</td>\n",
       "      <td>380843261</td>\n",
       "      <td>555900000</td>\n",
       "    </tr>\n",
       "    <tr>\n",
       "      <th>1</th>\n",
       "      <td>14</td>\n",
       "      <td>7.4</td>\n",
       "      <td>268492764</td>\n",
       "      <td>475066843</td>\n",
       "    </tr>\n",
       "    <tr>\n",
       "      <th>2</th>\n",
       "      <td>8</td>\n",
       "      <td>8</td>\n",
       "      <td>206445654</td>\n",
       "      <td>417277164</td>\n",
       "    </tr>\n",
       "    <tr>\n",
       "      <th>3</th>\n",
       "      <td>12</td>\n",
       "      <td>6.4</td>\n",
       "      <td>191452396</td>\n",
       "      <td>368400000</td>\n",
       "    </tr>\n",
       "    <tr>\n",
       "      <th>4</th>\n",
       "      <td>3</td>\n",
       "      <td>7.9</td>\n",
       "      <td>245852179</td>\n",
       "      <td>239163000</td>\n",
       "    </tr>\n",
       "    <tr>\n",
       "      <th>5</th>\n",
       "      <td>6</td>\n",
       "      <td>8</td>\n",
       "      <td>261441092</td>\n",
       "      <td>370001000</td>\n",
       "    </tr>\n",
       "    <tr>\n",
       "      <th>6</th>\n",
       "      <td>9</td>\n",
       "      <td>8.5</td>\n",
       "      <td>223808164</td>\n",
       "      <td>297503696</td>\n",
       "    </tr>\n",
       "    <tr>\n",
       "      <th>7</th>\n",
       "      <td>11</td>\n",
       "      <td>8.4</td>\n",
       "      <td>415004880</td>\n",
       "      <td>648167031</td>\n",
       "    </tr>\n",
       "    <tr>\n",
       "      <th>8</th>\n",
       "      <td>1</td>\n",
       "      <td>8.3</td>\n",
       "      <td>191796233</td>\n",
       "      <td>170162503</td>\n",
       "    </tr>\n",
       "    <tr>\n",
       "      <th>9</th>\n",
       "      <td>7</td>\n",
       "      <td>7.2</td>\n",
       "      <td>244082982</td>\n",
       "      <td>217900167</td>\n",
       "    </tr>\n",
       "    <tr>\n",
       "      <th>10</th>\n",
       "      <td>10</td>\n",
       "      <td>8.3</td>\n",
       "      <td>293004164</td>\n",
       "      <td>438338580</td>\n",
       "    </tr>\n",
       "    <tr>\n",
       "      <th>11</th>\n",
       "      <td>4</td>\n",
       "      <td>8.1</td>\n",
       "      <td>289916256</td>\n",
       "      <td>272900000</td>\n",
       "    </tr>\n",
       "    <tr>\n",
       "      <th>12</th>\n",
       "      <td>2</td>\n",
       "      <td>7.2</td>\n",
       "      <td>162798565</td>\n",
       "      <td>200600000</td>\n",
       "    </tr>\n",
       "    <tr>\n",
       "      <th>13</th>\n",
       "      <td>13</td>\n",
       "      <td>7.2</td>\n",
       "      <td>237283207</td>\n",
       "      <td>301700000</td>\n",
       "    </tr>\n",
       "  </tbody>\n",
       "</table>\n",
       "</div>"
      ],
      "text/plain": [
       "   Movie_id Rating Domestic_sales International_sales\n",
       "0         5    8.2      380843261           555900000\n",
       "1        14    7.4      268492764           475066843\n",
       "2         8      8      206445654           417277164\n",
       "3        12    6.4      191452396           368400000\n",
       "4         3    7.9      245852179           239163000\n",
       "5         6      8      261441092           370001000\n",
       "6         9    8.5      223808164           297503696\n",
       "7        11    8.4      415004880           648167031\n",
       "8         1    8.3      191796233           170162503\n",
       "9         7    7.2      244082982           217900167\n",
       "10       10    8.3      293004164           438338580\n",
       "11        4    8.1      289916256           272900000\n",
       "12        2    7.2      162798565           200600000\n",
       "13       13    7.2      237283207           301700000"
      ]
     },
     "execution_count": 15,
     "metadata": {},
     "output_type": "execute_result"
    }
   ],
   "source": [
    "BoxOffice"
   ]
  },
  {
   "cell_type": "markdown",
   "metadata": {},
   "source": [
    "1. Trouvez le nombre de films que chaque réalisateur a réalisé\n"
   ]
  },
  {
   "cell_type": "code",
   "execution_count": 16,
   "metadata": {
    "ExecuteTime": {
     "end_time": "2021-01-18T14:28:09.886634Z",
     "start_time": "2021-01-18T14:28:09.883564Z"
    }
   },
   "outputs": [],
   "source": [
    "QUERY1 = \"Select Director, count(Title) FROM Movies GROUP BY Director;\""
   ]
  },
  {
   "cell_type": "code",
   "execution_count": 17,
   "metadata": {
    "ExecuteTime": {
     "end_time": "2021-01-18T14:28:11.183492Z",
     "start_time": "2021-01-18T14:28:11.159723Z"
    }
   },
   "outputs": [
    {
     "data": {
      "text/html": [
       "<div>\n",
       "<style>\n",
       "    .dataframe thead tr:only-child th {\n",
       "        text-align: right;\n",
       "    }\n",
       "\n",
       "    .dataframe thead th {\n",
       "        text-align: left;\n",
       "    }\n",
       "\n",
       "    .dataframe tbody tr th {\n",
       "        vertical-align: top;\n",
       "    }\n",
       "</style>\n",
       "<table border=\"1\" class=\"dataframe\">\n",
       "  <thead>\n",
       "    <tr style=\"text-align: right;\">\n",
       "      <th></th>\n",
       "      <th>Director</th>\n",
       "      <th>count(Title)</th>\n",
       "    </tr>\n",
       "  </thead>\n",
       "  <tbody>\n",
       "    <tr>\n",
       "      <th>0</th>\n",
       "      <td>Andrew Stanton</td>\n",
       "      <td>2</td>\n",
       "    </tr>\n",
       "    <tr>\n",
       "      <th>1</th>\n",
       "      <td>Brad Bird</td>\n",
       "      <td>2</td>\n",
       "    </tr>\n",
       "    <tr>\n",
       "      <th>2</th>\n",
       "      <td>Brenda Chapman</td>\n",
       "      <td>1</td>\n",
       "    </tr>\n",
       "    <tr>\n",
       "      <th>3</th>\n",
       "      <td>Dan Scanlon</td>\n",
       "      <td>1</td>\n",
       "    </tr>\n",
       "    <tr>\n",
       "      <th>4</th>\n",
       "      <td>John Lasseter</td>\n",
       "      <td>5</td>\n",
       "    </tr>\n",
       "    <tr>\n",
       "      <th>5</th>\n",
       "      <td>Lee Unkrich</td>\n",
       "      <td>1</td>\n",
       "    </tr>\n",
       "    <tr>\n",
       "      <th>6</th>\n",
       "      <td>Pete Docter</td>\n",
       "      <td>2</td>\n",
       "    </tr>\n",
       "  </tbody>\n",
       "</table>\n",
       "</div>"
      ],
      "text/plain": [
       "         Director  count(Title)\n",
       "0  Andrew Stanton             2\n",
       "1       Brad Bird             2\n",
       "2  Brenda Chapman             1\n",
       "3     Dan Scanlon             1\n",
       "4   John Lasseter             5\n",
       "5     Lee Unkrich             1\n",
       "6     Pete Docter             2"
      ]
     },
     "execution_count": 17,
     "metadata": {},
     "output_type": "execute_result"
    }
   ],
   "source": [
    "sqldf(QUERY1)"
   ]
  },
  {
   "cell_type": "markdown",
   "metadata": {},
   "source": [
    "2. Trouvez le total des ventes nationales et internationales pouvant être attribuées à chaque directeur"
   ]
  },
  {
   "cell_type": "code",
   "execution_count": 18,
   "metadata": {
    "ExecuteTime": {
     "end_time": "2021-01-18T14:28:09.886634Z",
     "start_time": "2021-01-18T14:28:09.883564Z"
    }
   },
   "outputs": [],
   "source": [
    "QUERY2 = \"SELECT Director, Sum(Domestic_sales), Sum(International_sales) FROM Movies INNER JOIN BoxOffice ON Movies.id = BoxOffice.Movie_id GROUP BY Director;\""
   ]
  },
  {
   "cell_type": "code",
   "execution_count": 19,
   "metadata": {
    "ExecuteTime": {
     "end_time": "2021-01-18T14:28:11.183492Z",
     "start_time": "2021-01-18T14:28:11.159723Z"
    }
   },
   "outputs": [
    {
     "data": {
      "text/html": [
       "<div>\n",
       "<style>\n",
       "    .dataframe thead tr:only-child th {\n",
       "        text-align: right;\n",
       "    }\n",
       "\n",
       "    .dataframe thead th {\n",
       "        text-align: left;\n",
       "    }\n",
       "\n",
       "    .dataframe tbody tr th {\n",
       "        vertical-align: top;\n",
       "    }\n",
       "</style>\n",
       "<table border=\"1\" class=\"dataframe\">\n",
       "  <thead>\n",
       "    <tr style=\"text-align: right;\">\n",
       "      <th></th>\n",
       "      <th>Director</th>\n",
       "      <th>Sum(Domestic_sales)</th>\n",
       "      <th>Sum(International_sales)</th>\n",
       "    </tr>\n",
       "  </thead>\n",
       "  <tbody>\n",
       "    <tr>\n",
       "      <th>0</th>\n",
       "      <td>Andrew Stanton</td>\n",
       "      <td>604651425</td>\n",
       "      <td>853403696</td>\n",
       "    </tr>\n",
       "    <tr>\n",
       "      <th>1</th>\n",
       "      <td>Brad Bird</td>\n",
       "      <td>467886746</td>\n",
       "      <td>787278164</td>\n",
       "    </tr>\n",
       "    <tr>\n",
       "      <th>2</th>\n",
       "      <td>Brenda Chapman</td>\n",
       "      <td>237283207</td>\n",
       "      <td>301700000</td>\n",
       "    </tr>\n",
       "    <tr>\n",
       "      <th>3</th>\n",
       "      <td>Dan Scanlon</td>\n",
       "      <td>268492764</td>\n",
       "      <td>475066843</td>\n",
       "    </tr>\n",
       "    <tr>\n",
       "      <th>4</th>\n",
       "      <td>John Lasseter</td>\n",
       "      <td>1035982355</td>\n",
       "      <td>1196225670</td>\n",
       "    </tr>\n",
       "    <tr>\n",
       "      <th>5</th>\n",
       "      <td>Lee Unkrich</td>\n",
       "      <td>415004880</td>\n",
       "      <td>648167031</td>\n",
       "    </tr>\n",
       "    <tr>\n",
       "      <th>6</th>\n",
       "      <td>Pete Docter</td>\n",
       "      <td>582920420</td>\n",
       "      <td>711238580</td>\n",
       "    </tr>\n",
       "  </tbody>\n",
       "</table>\n",
       "</div>"
      ],
      "text/plain": [
       "         Director  Sum(Domestic_sales)  Sum(International_sales)\n",
       "0  Andrew Stanton            604651425                 853403696\n",
       "1       Brad Bird            467886746                 787278164\n",
       "2  Brenda Chapman            237283207                 301700000\n",
       "3     Dan Scanlon            268492764                 475066843\n",
       "4   John Lasseter           1035982355                1196225670\n",
       "5     Lee Unkrich            415004880                 648167031\n",
       "6     Pete Docter            582920420                 711238580"
      ]
     },
     "execution_count": 19,
     "metadata": {},
     "output_type": "execute_result"
    }
   ],
   "source": [
    "sqldf(QUERY2)"
   ]
  },
  {
   "cell_type": "code",
   "execution_count": null,
   "metadata": {},
   "outputs": [],
   "source": []
  }
 ],
 "metadata": {
  "kernelspec": {
   "display_name": "Python 3",
   "language": "python",
   "name": "python3"
  }
 },
 "nbformat": 4,
 "nbformat_minor": 1
}
