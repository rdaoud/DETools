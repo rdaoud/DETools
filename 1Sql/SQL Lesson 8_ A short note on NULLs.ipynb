{
 "cells": [
  {
   "cell_type": "markdown",
   "metadata": {},
   "source": [
    "# SQL Lesson 8: Une brève note sur les NULL"
   ]
  },
  {
   "cell_type": "markdown",
   "metadata": {},
   "source": [
    "Comme promis dans la dernière leçon, nous allons parler rapidement des valeurs **NULL** dans une base de données SQL. Il est toujours bon de réduire la possibilité de valeurs NULL dans les bases de données car elles nécessitent une attention particulière lors de la construction de requêtes, de contraintes (certaines fonctions se comportent différemment avec des valeurs nulles) et lors du traitement des résultats."
   ]
  },
  {
   "cell_type": "markdown",
   "metadata": {},
   "source": [
    "Une alternative aux valeurs NULL dans votre base de données est d'avoir * des valeurs par défaut appropriées au type de données *, comme 0 pour les données numériques, des chaînes vides pour les données texte, etc. Mais si votre base de données a besoin de stocker des données incomplètes, les valeurs NULL peuvent être appropriées si les valeurs par défaut faussent l'analyse ultérieure (par exemple, lors de la prise de moyennes de données numériques)."
   ]
  },
  {
   "cell_type": "markdown",
   "metadata": {},
   "source": [
    "Parfois, il n'est pas non plus possible d'éviter les valeurs **NULL**, comme nous l'avons vu dans la dernière leçon lors de la jonction externe de deux tables avec des données asymétriques. Dans ces cas, vous pouvez tester une colonne pour les valeurs **NULL** d'une clause **WHERE** à l'aide de la contrainte **IS NULL** ou **IS NOT NULL.**\n",
    "\n"
   ]
  },
  {
   "cell_type": "markdown",
   "metadata": {},
   "source": [
    "Sélectionnez une requête avec des contraintes sur les valeurs NULL\n",
    "``` mysql \n",
    "SELECT column, another_column, …\n",
    "FROM mytable\n",
    "WHERE column IS/IS NOT NULL\n",
    "AND/OR another_condition\n",
    "AND/OR …;\n",
    "```"
   ]
  },
  {
   "cell_type": "markdown",
   "metadata": {},
   "source": [
    "## Exercice"
   ]
  },
  {
   "cell_type": "markdown",
   "metadata": {},
   "source": [
    "Cet exercice sera une sorte de revue des dernières leçons. Nous utilisons le même tableau **employes** et **batiments** de la dernière leçon, mais nous avons embauché quelques personnes supplémentaires, qui n'ont pas encore reçu de bâtiment."
   ]
  },
  {
   "cell_type": "code",
   "execution_count": 1,
   "metadata": {
    "ExecuteTime": {
     "end_time": "2021-01-18T15:42:41.178469Z",
     "start_time": "2021-01-18T15:42:40.415645Z"
    }
   },
   "outputs": [],
   "source": [
    "import pandas as pd\n",
    "\n",
    "def to_df(s):\n",
    "    l= [elt.split(';') for elt in s.replace(\"\t\", \";\").split('\\n')]\n",
    "    return pd.DataFrame(l[1:], columns=l[0])"
   ]
  },
  {
   "cell_type": "code",
   "execution_count": 2,
   "metadata": {
    "ExecuteTime": {
     "end_time": "2021-01-18T15:42:41.319952Z",
     "start_time": "2021-01-18T15:42:41.180049Z"
    }
   },
   "outputs": [],
   "source": [
    "from pandasql import sqldf"
   ]
  },
  {
   "cell_type": "code",
   "execution_count": 3,
   "metadata": {
    "ExecuteTime": {
     "end_time": "2021-01-18T15:42:41.324683Z",
     "start_time": "2021-01-18T15:42:41.322618Z"
    }
   },
   "outputs": [],
   "source": [
    "x=\"\"\"Building_name\tCapacity\n",
    "1e\t24\n",
    "1w\t32\n",
    "2e\t16\n",
    "2w\t20\"\"\""
   ]
  },
  {
   "cell_type": "code",
   "execution_count": 4,
   "metadata": {
    "ExecuteTime": {
     "end_time": "2021-01-18T15:42:41.331788Z",
     "start_time": "2021-01-18T15:42:41.326776Z"
    }
   },
   "outputs": [],
   "source": [
    "batiments=to_df(x)# buildings"
   ]
  },
  {
   "cell_type": "code",
   "execution_count": 5,
   "metadata": {
    "ExecuteTime": {
     "end_time": "2021-01-18T15:42:42.580182Z",
     "start_time": "2021-01-18T15:42:42.565133Z"
    }
   },
   "outputs": [
    {
     "data": {
      "text/html": [
       "<div>\n",
       "<style>\n",
       "    .dataframe thead tr:only-child th {\n",
       "        text-align: right;\n",
       "    }\n",
       "\n",
       "    .dataframe thead th {\n",
       "        text-align: left;\n",
       "    }\n",
       "\n",
       "    .dataframe tbody tr th {\n",
       "        vertical-align: top;\n",
       "    }\n",
       "</style>\n",
       "<table border=\"1\" class=\"dataframe\">\n",
       "  <thead>\n",
       "    <tr style=\"text-align: right;\">\n",
       "      <th></th>\n",
       "      <th>Building_name</th>\n",
       "      <th>Capacity</th>\n",
       "    </tr>\n",
       "  </thead>\n",
       "  <tbody>\n",
       "    <tr>\n",
       "      <th>0</th>\n",
       "      <td>1e</td>\n",
       "      <td>24</td>\n",
       "    </tr>\n",
       "    <tr>\n",
       "      <th>1</th>\n",
       "      <td>1w</td>\n",
       "      <td>32</td>\n",
       "    </tr>\n",
       "    <tr>\n",
       "      <th>2</th>\n",
       "      <td>2e</td>\n",
       "      <td>16</td>\n",
       "    </tr>\n",
       "    <tr>\n",
       "      <th>3</th>\n",
       "      <td>2w</td>\n",
       "      <td>20</td>\n",
       "    </tr>\n",
       "  </tbody>\n",
       "</table>\n",
       "</div>"
      ],
      "text/plain": [
       "  Building_name Capacity\n",
       "0            1e       24\n",
       "1            1w       32\n",
       "2            2e       16\n",
       "3            2w       20"
      ]
     },
     "execution_count": 5,
     "metadata": {},
     "output_type": "execute_result"
    }
   ],
   "source": [
    "batiments"
   ]
  },
  {
   "cell_type": "code",
   "execution_count": 36,
   "metadata": {
    "ExecuteTime": {
     "end_time": "2021-01-18T15:42:42.937799Z",
     "start_time": "2021-01-18T15:42:42.935651Z"
    }
   },
   "outputs": [],
   "source": [
    "y=\"\"\"Role\tName\tBuilding\tYears_employed\n",
    "Engineer\tBecky A.\t1e\t4\n",
    "Engineer\tDan B.\t1e\t2\n",
    "Engineer\tSharon F.\t1e\t6\n",
    "Engineer\tDan M.\t1e\t4\n",
    "Engineer\tMalcom S.\t1e\t1\n",
    "Artist\tTylar S.\t2w\t2\n",
    "Artist\tSherman D.\t2w\t8\n",
    "Artist\tJakob J.\t2w\t6\n",
    "Artist\tLillia A.\t2w\t7\n",
    "Artist\tBrandon J.\t2w\t7\n",
    "Manager\tScott K.\t1e\t9\n",
    "Manager\tShirlee M.\t1e\t3\n",
    "Manager\tDaria O.\t2w\t6\n",
    "Engineer\tYanci I.\t\t0\n",
    "Artist\tOliver P.\t\t0\"\"\""
   ]
  },
  {
   "cell_type": "code",
   "execution_count": 37,
   "metadata": {
    "ExecuteTime": {
     "end_time": "2021-01-18T15:42:43.763211Z",
     "start_time": "2021-01-18T15:42:43.760485Z"
    }
   },
   "outputs": [],
   "source": [
    "employes=to_df(y) #employees"
   ]
  },
  {
   "cell_type": "code",
   "execution_count": 38,
   "metadata": {
    "ExecuteTime": {
     "end_time": "2021-01-18T15:42:48.286745Z",
     "start_time": "2021-01-18T15:42:48.273938Z"
    }
   },
   "outputs": [
    {
     "data": {
      "text/html": [
       "<div>\n",
       "<style>\n",
       "    .dataframe thead tr:only-child th {\n",
       "        text-align: right;\n",
       "    }\n",
       "\n",
       "    .dataframe thead th {\n",
       "        text-align: left;\n",
       "    }\n",
       "\n",
       "    .dataframe tbody tr th {\n",
       "        vertical-align: top;\n",
       "    }\n",
       "</style>\n",
       "<table border=\"1\" class=\"dataframe\">\n",
       "  <thead>\n",
       "    <tr style=\"text-align: right;\">\n",
       "      <th></th>\n",
       "      <th>Role</th>\n",
       "      <th>Name</th>\n",
       "      <th>Building</th>\n",
       "      <th>Years_employed</th>\n",
       "    </tr>\n",
       "  </thead>\n",
       "  <tbody>\n",
       "    <tr>\n",
       "      <th>0</th>\n",
       "      <td>Engineer</td>\n",
       "      <td>Becky A.</td>\n",
       "      <td>1e</td>\n",
       "      <td>4</td>\n",
       "    </tr>\n",
       "    <tr>\n",
       "      <th>1</th>\n",
       "      <td>Engineer</td>\n",
       "      <td>Dan B.</td>\n",
       "      <td>1e</td>\n",
       "      <td>2</td>\n",
       "    </tr>\n",
       "    <tr>\n",
       "      <th>2</th>\n",
       "      <td>Engineer</td>\n",
       "      <td>Sharon F.</td>\n",
       "      <td>1e</td>\n",
       "      <td>6</td>\n",
       "    </tr>\n",
       "    <tr>\n",
       "      <th>3</th>\n",
       "      <td>Engineer</td>\n",
       "      <td>Dan M.</td>\n",
       "      <td>1e</td>\n",
       "      <td>4</td>\n",
       "    </tr>\n",
       "    <tr>\n",
       "      <th>4</th>\n",
       "      <td>Engineer</td>\n",
       "      <td>Malcom S.</td>\n",
       "      <td>1e</td>\n",
       "      <td>1</td>\n",
       "    </tr>\n",
       "    <tr>\n",
       "      <th>5</th>\n",
       "      <td>Artist</td>\n",
       "      <td>Tylar S.</td>\n",
       "      <td>2w</td>\n",
       "      <td>2</td>\n",
       "    </tr>\n",
       "    <tr>\n",
       "      <th>6</th>\n",
       "      <td>Artist</td>\n",
       "      <td>Sherman D.</td>\n",
       "      <td>2w</td>\n",
       "      <td>8</td>\n",
       "    </tr>\n",
       "    <tr>\n",
       "      <th>7</th>\n",
       "      <td>Artist</td>\n",
       "      <td>Jakob J.</td>\n",
       "      <td>2w</td>\n",
       "      <td>6</td>\n",
       "    </tr>\n",
       "    <tr>\n",
       "      <th>8</th>\n",
       "      <td>Artist</td>\n",
       "      <td>Lillia A.</td>\n",
       "      <td>2w</td>\n",
       "      <td>7</td>\n",
       "    </tr>\n",
       "    <tr>\n",
       "      <th>9</th>\n",
       "      <td>Artist</td>\n",
       "      <td>Brandon J.</td>\n",
       "      <td>2w</td>\n",
       "      <td>7</td>\n",
       "    </tr>\n",
       "    <tr>\n",
       "      <th>10</th>\n",
       "      <td>Manager</td>\n",
       "      <td>Scott K.</td>\n",
       "      <td>1e</td>\n",
       "      <td>9</td>\n",
       "    </tr>\n",
       "    <tr>\n",
       "      <th>11</th>\n",
       "      <td>Manager</td>\n",
       "      <td>Shirlee M.</td>\n",
       "      <td>1e</td>\n",
       "      <td>3</td>\n",
       "    </tr>\n",
       "    <tr>\n",
       "      <th>12</th>\n",
       "      <td>Manager</td>\n",
       "      <td>Daria O.</td>\n",
       "      <td>2w</td>\n",
       "      <td>6</td>\n",
       "    </tr>\n",
       "    <tr>\n",
       "      <th>13</th>\n",
       "      <td>Engineer</td>\n",
       "      <td>Yanci I.</td>\n",
       "      <td></td>\n",
       "      <td>0</td>\n",
       "    </tr>\n",
       "    <tr>\n",
       "      <th>14</th>\n",
       "      <td>Artist</td>\n",
       "      <td>Oliver P.</td>\n",
       "      <td></td>\n",
       "      <td>0</td>\n",
       "    </tr>\n",
       "  </tbody>\n",
       "</table>\n",
       "</div>"
      ],
      "text/plain": [
       "        Role        Name Building Years_employed\n",
       "0   Engineer    Becky A.       1e              4\n",
       "1   Engineer      Dan B.       1e              2\n",
       "2   Engineer   Sharon F.       1e              6\n",
       "3   Engineer      Dan M.       1e              4\n",
       "4   Engineer   Malcom S.       1e              1\n",
       "5     Artist    Tylar S.       2w              2\n",
       "6     Artist  Sherman D.       2w              8\n",
       "7     Artist    Jakob J.       2w              6\n",
       "8     Artist   Lillia A.       2w              7\n",
       "9     Artist  Brandon J.       2w              7\n",
       "10   Manager    Scott K.       1e              9\n",
       "11   Manager  Shirlee M.       1e              3\n",
       "12   Manager    Daria O.       2w              6\n",
       "13  Engineer    Yanci I.                       0\n",
       "14    Artist   Oliver P.                       0"
      ]
     },
     "execution_count": 38,
     "metadata": {},
     "output_type": "execute_result"
    }
   ],
   "source": [
    "employes"
   ]
  },
  {
   "cell_type": "markdown",
   "metadata": {},
   "source": [
    "1. Trouvez le nom et le rôle de tous les employés qui n'ont pas été affectés à un bâtiment\n"
   ]
  },
  {
   "cell_type": "code",
   "execution_count": 45,
   "metadata": {
    "ExecuteTime": {
     "end_time": "2021-01-18T14:28:09.886634Z",
     "start_time": "2021-01-18T14:28:09.883564Z"
    }
   },
   "outputs": [],
   "source": [
    "QUERY1 = \"SELECT Name, Role FROM employes WHERE Building = '';\""
   ]
  },
  {
   "cell_type": "code",
   "execution_count": 46,
   "metadata": {
    "ExecuteTime": {
     "end_time": "2021-01-18T14:28:11.183492Z",
     "start_time": "2021-01-18T14:28:11.159723Z"
    }
   },
   "outputs": [
    {
     "data": {
      "text/html": [
       "<div>\n",
       "<style>\n",
       "    .dataframe thead tr:only-child th {\n",
       "        text-align: right;\n",
       "    }\n",
       "\n",
       "    .dataframe thead th {\n",
       "        text-align: left;\n",
       "    }\n",
       "\n",
       "    .dataframe tbody tr th {\n",
       "        vertical-align: top;\n",
       "    }\n",
       "</style>\n",
       "<table border=\"1\" class=\"dataframe\">\n",
       "  <thead>\n",
       "    <tr style=\"text-align: right;\">\n",
       "      <th></th>\n",
       "      <th>Name</th>\n",
       "      <th>Role</th>\n",
       "    </tr>\n",
       "  </thead>\n",
       "  <tbody>\n",
       "    <tr>\n",
       "      <th>0</th>\n",
       "      <td>Yanci I.</td>\n",
       "      <td>Engineer</td>\n",
       "    </tr>\n",
       "    <tr>\n",
       "      <th>1</th>\n",
       "      <td>Oliver P.</td>\n",
       "      <td>Artist</td>\n",
       "    </tr>\n",
       "  </tbody>\n",
       "</table>\n",
       "</div>"
      ],
      "text/plain": [
       "        Name      Role\n",
       "0   Yanci I.  Engineer\n",
       "1  Oliver P.    Artist"
      ]
     },
     "execution_count": 46,
     "metadata": {},
     "output_type": "execute_result"
    }
   ],
   "source": [
    "sqldf(QUERY1)"
   ]
  },
  {
   "cell_type": "markdown",
   "metadata": {},
   "source": [
    "2. Trouvez les noms des bâtiments qui n'occupent aucun employé"
   ]
  },
  {
   "cell_type": "code",
   "execution_count": 49,
   "metadata": {
    "ExecuteTime": {
     "end_time": "2021-01-18T14:28:09.886634Z",
     "start_time": "2021-01-18T14:28:09.883564Z"
    }
   },
   "outputs": [],
   "source": [
    "QUERY2 = \"SELECT Building_name FROM batiments WHERE Building_Name NOT IN (SELECT DISTINCT Building FROM employes WHERE Building is NOT Null);\""
   ]
  },
  {
   "cell_type": "code",
   "execution_count": 50,
   "metadata": {
    "ExecuteTime": {
     "end_time": "2021-01-18T14:28:11.183492Z",
     "start_time": "2021-01-18T14:28:11.159723Z"
    }
   },
   "outputs": [
    {
     "data": {
      "text/html": [
       "<div>\n",
       "<style>\n",
       "    .dataframe thead tr:only-child th {\n",
       "        text-align: right;\n",
       "    }\n",
       "\n",
       "    .dataframe thead th {\n",
       "        text-align: left;\n",
       "    }\n",
       "\n",
       "    .dataframe tbody tr th {\n",
       "        vertical-align: top;\n",
       "    }\n",
       "</style>\n",
       "<table border=\"1\" class=\"dataframe\">\n",
       "  <thead>\n",
       "    <tr style=\"text-align: right;\">\n",
       "      <th></th>\n",
       "      <th>Building_name</th>\n",
       "    </tr>\n",
       "  </thead>\n",
       "  <tbody>\n",
       "    <tr>\n",
       "      <th>0</th>\n",
       "      <td>1w</td>\n",
       "    </tr>\n",
       "    <tr>\n",
       "      <th>1</th>\n",
       "      <td>2e</td>\n",
       "    </tr>\n",
       "  </tbody>\n",
       "</table>\n",
       "</div>"
      ],
      "text/plain": [
       "  Building_name\n",
       "0            1w\n",
       "1            2e"
      ]
     },
     "execution_count": 50,
     "metadata": {},
     "output_type": "execute_result"
    }
   ],
   "source": [
    "sqldf(QUERY2)"
   ]
  },
  {
   "cell_type": "code",
   "execution_count": null,
   "metadata": {},
   "outputs": [],
   "source": []
  }
 ],
 "metadata": {
  "kernelspec": {
   "display_name": "Python 3",
   "language": "python",
   "name": "python3"
  },
  "language_info": {
   "codemirror_mode": {
    "name": "ipython",
    "version": 3
   },
   "file_extension": ".py",
   "mimetype": "text/x-python",
   "name": "python",
   "nbconvert_exporter": "python",
   "pygments_lexer": "ipython3",
   "version": "3.6.12"
  }
 },
 "nbformat": 4,
 "nbformat_minor": 1
}
